{
 "cells": [
  {
   "cell_type": "markdown",
   "id": "6c02bf64",
   "metadata": {},
   "source": [
    "## Libraries Imported"
   ]
  },
  {
   "cell_type": "code",
   "execution_count": 2,
   "id": "86929cbe",
   "metadata": {},
   "outputs": [],
   "source": [
    "import torch\n",
    "from transformers import BertTokenizer, BertForSequenceClassification\n",
    "from torch.nn import CrossEntropyLoss\n",
    "from torch.utils.data import DataLoader, RandomSampler, SequentialSampler, TensorDataset, random_split\n",
    "from transformers import AdamW, get_linear_schedule_with_warmup\n",
    "import numpy as np\n",
    "from sklearn.metrics import accuracy_score\n",
    "import pandas as pd\n",
    "import random\n",
    "import time\n",
    "from datetime import timedelta\n",
    "from sklearn.model_selection import StratifiedKFold\n",
    "from tqdm.auto import tqdm\n",
    "from sklearn.metrics import accuracy_score, precision_score, recall_score, f1_score\n",
    "import ast\n",
    "import matplotlib.pyplot as plt\n",
    "from sklearn.metrics import confusion_matrix"
   ]
  },
  {
   "cell_type": "markdown",
   "id": "0ca61d64",
   "metadata": {},
   "source": [
    "## Library Description:\n",
    "- `torch`: A deep learning library for building and training neural networks.\n",
    "- `transformers`: A library pre-trained transformer models for NLP tasks.\n",
    "- `CrossEntropyLoss`: A PyTorch loss function for multi-class classification problems.\n",
    "- `DataLoader`: A PyTorch utility to efficiently load and batch data.\n",
    "- `RandomSampler`, `SequentialSampler`: Tools for shuffling or ordering data in PyTorch DataLoader.\n",
    "- `TensorDataset`: A PyTorch dataset class for combining tensors.\n",
    "- `random_split`: A PyTorch function to split datasets into train/test subsets.\n",
    "- `AdamW`: An optimizer to train deep learning models with weight decay.\n",
    "- `get_linear_schedule_with_warmup`: A learning rate scheduler for gradual warmup and linear decay.\n",
    "- `numpy`: The library to perform numerical computation and array manipulation.\n",
    "- `accuracy_score`: A metric to calculate the proportion of correct predictions.\n",
    "- `pandas`: A library to manipulate and analyze data.\n",
    "- `random`: Module that provides functionality for generating random numbers and shuffling data.\n",
    "- `time`: Module used to measure runtime, basically anything that involves time or time-related operations.\n",
    "- `timedelta`: Class used to calculate the difference between two dates and times.\n",
    "- `StratifiedKFold`: Technique of cross-validation that creates folds for stratification.\n",
    "- `tqdm`: Library for creating progress bars.\n",
    "- `precision_score`, `recall_score`, `f1_score`: Parameters for classification results.\n",
    "- `ast`: Module used for parsing and analyzing Python abstract syntax trees.\n",
    "- `matplotlib.pyplot`: A library to create visualizations and plots.\n",
    "- `confusion_matrix`: Metric to assess the predictions of the model in classification tasks.\n",
    "```\n"
   ]
  },
  {
   "cell_type": "markdown",
   "id": "4ab8187a",
   "metadata": {},
   "source": [
    "## DataSet Preparation"
   ]
  },
  {
   "cell_type": "code",
   "execution_count": 3,
   "id": "fe4062d3",
   "metadata": {},
   "outputs": [
    {
     "name": "stdout",
     "output_type": "stream",
     "text": [
      "Total number of abstracts in the dataset: 1065\n"
     ]
    }
   ],
   "source": [
    "def tokenize_dataset(dataset, tokenizer, max_len=512):\n",
    "    \"\"\"\n",
    "   Here, Tokenizes the input dataset using BERT's tokenizer.\n",
    "   One abstract is truncated to 'max_len'.\n",
    "   Here, the tokenized inputs are returned along with attention masks.\n",
    "    \"\"\"\n",
    "    input_ids = []\n",
    "    attention_masks = []\n",
    "\n",
    "    for abstract in dataset['Abstract_Tokens']:\n",
    "        encoded_dict = tokenizer.encode_plus(\n",
    "            abstract,\n",
    "            add_special_tokens=True,  \n",
    "            max_length=max_len,      \n",
    "            truncation=True,        \n",
    "            padding='max_length',    \n",
    "            return_attention_mask=True, \n",
    "            return_tensors='pt',    \n",
    "        )\n",
    "        input_ids.append(encoded_dict['input_ids'][0])\n",
    "        attention_masks.append(encoded_dict['attention_mask'][0])\n",
    "\n",
    "    input_ids = torch.stack(input_ids, dim=0)\n",
    "    attention_masks = torch.stack(attention_masks, dim=0)\n",
    "    labels = torch.tensor(dataset['label'].values)\n",
    "\n",
    "    return input_ids, attention_masks, labels\n",
    "\n",
    "# Dataset being loaded\n",
    "df = pd.read_csv('output_file.csv')  # Use the output file from the previous preprocessing step\n",
    "# Labels are converted to numeric signs respectively for the given categories\n",
    "df['label'] = df['Category'].map({'Astronomy': 0, 'Political Science': 1, 'Psychology': 2}) \n",
    "\n",
    "\n",
    "print(\"Total number of abstracts in the dataset:\", df.shape[0])\n",
    "\n",
    "\n",
    "# Initializing the tokenizer\n",
    "tokenizer = BertTokenizer.from_pretrained('bert-base-uncased', do_lower_case=True)\n",
    "\n",
    "# Tokenizing the dataset\n",
    "input_ids, attention_masks, labels = tokenize_dataset(df, tokenizer)"
   ]
  },
  {
   "cell_type": "markdown",
   "id": "f1e95401",
   "metadata": {},
   "source": [
    "## Tokenizing"
   ]
  },
  {
   "cell_type": "code",
   "execution_count": 6,
   "id": "924a7d4f",
   "metadata": {},
   "outputs": [
    {
     "name": "stdout",
     "output_type": "stream",
     "text": [
      "Tokenized dataset saved to 'token_dataset_1.csv'\n"
     ]
    }
   ],
   "source": [
    "# Converting tensors to lists for saving in CSV\n",
    "input_ids_list = input_ids.numpy().tolist()\n",
    "attention_masks_list = attention_masks.numpy().tolist()\n",
    "labels_list = labels.numpy().tolist()\n",
    "\n",
    "# A new dataframe is created for saving to CSV\n",
    "tokenized_data = pd.DataFrame({\n",
    "    'input_ids': input_ids_list,\n",
    "    'attention_masks': attention_masks_list,\n",
    "    'labels': labels_list\n",
    "})\n",
    "\n",
    "# Saving the DataFrame to a new CSV file\n",
    "tokenized_data.to_csv('token_dataset_1.csv', index=False)\n",
    "\n",
    "\n",
    "#The tokenized dataset is saved\n",
    "print(\"Tokenized dataset saved to 'token_dataset_1.csv'\")\n"
   ]
  },
  {
   "cell_type": "markdown",
   "id": "62fbab35",
   "metadata": {},
   "source": [
    "### Explanation of the Code:\n",
    "\n",
    "#### Function: `tokenize_dataset`\n",
    "\n",
    "- **Parameters:**\n",
    "  - `dataset`: Input dataset containing abstracts and corresponding labels.\n",
    "  - `tokenizer`: BERT tokenizer used for transforming text into tokenized format.\n",
    "  - `max_len`: Maximum token sequence length, ensuring truncation or padding.\n",
    "\n",
    "- **Functionality:**\n",
    "  - Tokenizes the abstracts using BERT's tokenizer while handling truncation or padding to match `max_len`.\n",
    "  - Outputs tokenized `input_ids`, attention masks, and labels, ready for model input.\n",
    "\n",
    "#### Data Loading and Preprocessing:\n",
    "\n",
    "- **Dataset Loading:**\n",
    "  - Loads a CSV file (`output_file.csv`) into a DataFrame (`df`) containing preprocessed abstracts in the column `abstract`.\n",
    "\n",
    "- **Label Encoding:**\n",
    "  - Maps textual labels (`'Astronomy'`, `'Political Science'`, `'Psychology'`) to numeric values (`0`, `1`, `2`) for compatibility with machine learning models.\n",
    "  - Adds a new column `label` to store numeric labels.\n",
    "\n",
    "#### Tokenization and Data Preparation:\n",
    "\n",
    "- **Tokenizer Initialization:**\n",
    "  - Sets up the BERT tokenizer (`bert-base-uncased`), ensuring case insensitivity during text processing.\n",
    "\n",
    "- **Dataset Tokenization:**\n",
    "  - Uses the `tokenize_dataset` function to process abstracts into tokenized inputs (`input_ids`), attention masks, and labels.\n",
    "\n",
    "- **Conversion to Lists:**\n",
    "  - Converts the tokenized tensors (`input_ids`, `attention_masks`, `labels`) to lists for compatibility with file-saving operations.\n",
    "\n",
    "#### DataFrame Creation and Export:\n",
    "\n",
    "- **DataFrame Construction:**\n",
    "  - Creates a new DataFrame (`tokenized_data`) with columns: \n",
    "    - `input_ids`: Encoded token sequences.\n",
    "    - `attention_masks`: Binary masks indicating padded tokens.\n",
    "    - `labels`: Numeric labels.\n",
    "\n",
    "- **Saving as CSV:**\n",
    "  - Exports the tokenized data to a CSV file (`tokenized_dataset.csv`) without index values (`index=False`), ensuring a clean format for future use.\n",
    "\n",
    "\n",
    "#### Final Output:\n",
    "\n",
    "- **Completion Message:**\n",
    "  - Confirms the successful export of the tokenized dataset to `tokenized_dataset.csv`, ready for subsequent training steps."
   ]
  },
  {
   "cell_type": "markdown",
   "id": "953f9590",
   "metadata": {},
   "source": [
    "## Model Loading"
   ]
  },
  {
   "cell_type": "code",
   "execution_count": 4,
   "id": "413dec70",
   "metadata": {},
   "outputs": [
    {
     "name": "stderr",
     "output_type": "stream",
     "text": [
      "Some weights of the model checkpoint at bert-base-uncased were not used when initializing BertForSequenceClassification: ['cls.predictions.transform.LayerNorm.weight', 'cls.predictions.transform.LayerNorm.bias', 'cls.seq_relationship.bias', 'cls.predictions.decoder.weight', 'cls.seq_relationship.weight', 'cls.predictions.transform.dense.bias', 'cls.predictions.bias', 'cls.predictions.transform.dense.weight']\n",
      "- This IS expected if you are initializing BertForSequenceClassification from the checkpoint of a model trained on another task or with another architecture (e.g. initializing a BertForSequenceClassification model from a BertForPreTraining model).\n",
      "- This IS NOT expected if you are initializing BertForSequenceClassification from the checkpoint of a model that you expect to be exactly identical (initializing a BertForSequenceClassification model from a BertForSequenceClassification model).\n",
      "Some weights of BertForSequenceClassification were not initialized from the model checkpoint at bert-base-uncased and are newly initialized: ['classifier.bias', 'classifier.weight']\n",
      "You should probably TRAIN this model on a down-stream task to be able to use it for predictions and inference.\n"
     ]
    },
    {
     "name": "stdout",
     "output_type": "stream",
     "text": [
      "Model loaded successfully.\n"
     ]
    }
   ],
   "source": [
    "# Initializing the BERT model for sequence classification.\n",
    "model = BertForSequenceClassification.from_pretrained(\n",
    "    \"bert-base-uncased\",  # Loading the pre-trained 12-layer BERT model with an uncased vocabulary(in this case bert-base-uncased)\n",
    "    num_labels=3,  # Showing the number of output classes for the classification task (3 in this case).\n",
    "    output_attentions=False,  # The output attention weights are disabled\n",
    "    output_hidden_states=False,  # Disabling the output of intermediate hidden states for each layer.\n",
    ")\n",
    "\n",
    "print(\"Model loaded successfully.\")\n"
   ]
  },
  {
   "cell_type": "markdown",
   "id": "86618128",
   "metadata": {},
   "source": [
    "## The Training Loop"
   ]
  },
  {
   "cell_type": "markdown",
   "id": "a87ee11c",
   "metadata": {},
   "source": [
    "### Transfer to device"
   ]
  },
  {
   "cell_type": "code",
   "execution_count": 5,
   "id": "a7d36c44",
   "metadata": {},
   "outputs": [
    {
     "data": {
      "text/plain": [
       "BertForSequenceClassification(\n",
       "  (bert): BertModel(\n",
       "    (embeddings): BertEmbeddings(\n",
       "      (word_embeddings): Embedding(30522, 768, padding_idx=0)\n",
       "      (position_embeddings): Embedding(512, 768)\n",
       "      (token_type_embeddings): Embedding(2, 768)\n",
       "      (LayerNorm): LayerNorm((768,), eps=1e-12, elementwise_affine=True)\n",
       "      (dropout): Dropout(p=0.1, inplace=False)\n",
       "    )\n",
       "    (encoder): BertEncoder(\n",
       "      (layer): ModuleList(\n",
       "        (0-11): 12 x BertLayer(\n",
       "          (attention): BertAttention(\n",
       "            (self): BertSelfAttention(\n",
       "              (query): Linear(in_features=768, out_features=768, bias=True)\n",
       "              (key): Linear(in_features=768, out_features=768, bias=True)\n",
       "              (value): Linear(in_features=768, out_features=768, bias=True)\n",
       "              (dropout): Dropout(p=0.1, inplace=False)\n",
       "            )\n",
       "            (output): BertSelfOutput(\n",
       "              (dense): Linear(in_features=768, out_features=768, bias=True)\n",
       "              (LayerNorm): LayerNorm((768,), eps=1e-12, elementwise_affine=True)\n",
       "              (dropout): Dropout(p=0.1, inplace=False)\n",
       "            )\n",
       "          )\n",
       "          (intermediate): BertIntermediate(\n",
       "            (dense): Linear(in_features=768, out_features=3072, bias=True)\n",
       "            (intermediate_act_fn): GELUActivation()\n",
       "          )\n",
       "          (output): BertOutput(\n",
       "            (dense): Linear(in_features=3072, out_features=768, bias=True)\n",
       "            (LayerNorm): LayerNorm((768,), eps=1e-12, elementwise_affine=True)\n",
       "            (dropout): Dropout(p=0.1, inplace=False)\n",
       "          )\n",
       "        )\n",
       "      )\n",
       "    )\n",
       "    (pooler): BertPooler(\n",
       "      (dense): Linear(in_features=768, out_features=768, bias=True)\n",
       "      (activation): Tanh()\n",
       "    )\n",
       "  )\n",
       "  (dropout): Dropout(p=0.1, inplace=False)\n",
       "  (classifier): Linear(in_features=768, out_features=3, bias=True)\n",
       ")"
      ]
     },
     "execution_count": 5,
     "metadata": {},
     "output_type": "execute_result"
    }
   ],
   "source": [
    "# If GPU is available, using it or CPU is used\n",
    "device = torch.device(\"cuda\" if torch.cuda.is_available() else \"cpu\")\n",
    "\n",
    "# Model is sent to the device (GPU or CPU)\n",
    "model.to(device)"
   ]
  },
  {
   "cell_type": "code",
   "execution_count": 7,
   "id": "1f82a235",
   "metadata": {
    "scrolled": true
   },
   "outputs": [
    {
     "name": "stdout",
     "output_type": "stream",
     "text": [
      "\n",
      "==> Fold 1 / 5 <===\n"
     ]
    },
    {
     "name": "stderr",
     "output_type": "stream",
     "text": [
      "/Users/areeba/anaconda3/lib/python3.10/site-packages/transformers/optimization.py:306: FutureWarning: This implementation of AdamW is deprecated and will be removed in a future version. Use the PyTorch implementation torch.optim.AdamW instead, or set `no_deprecation_warning=True` to disable this warning\n",
      "  warnings.warn(\n"
     ]
    },
    {
     "name": "stdout",
     "output_type": "stream",
     "text": [
      "Optimizer and scheduler set up successfully.\n",
      "\n",
      "Epoch 1 / 4\n",
      "Training...\n"
     ]
    },
    {
     "data": {
      "application/vnd.jupyter.widget-view+json": {
       "model_id": "",
       "version_major": 2,
       "version_minor": 0
      },
      "text/plain": [
       "Training:   0%|          | 0/107 [00:00<?, ?it/s]"
      ]
     },
     "metadata": {},
     "output_type": "display_data"
    },
    {
     "name": "stdout",
     "output_type": "stream",
     "text": [
      "Batch Loss: 0.0047, Time: 0:00:12\n",
      "Average training loss: 0.41 | Epoch Time: 0:44:25\n",
      "\n",
      "Training Accuracy for this Epoch: 0.84 | Epoch Time: 0:44:25\n",
      "\n",
      "Validation...\n"
     ]
    },
    {
     "data": {
      "application/vnd.jupyter.widget-view+json": {
       "model_id": "",
       "version_major": 2,
       "version_minor": 0
      },
      "text/plain": [
       "Validation:   0%|          | 0/27 [00:00<?, ?it/s]"
      ]
     },
     "metadata": {},
     "output_type": "display_data"
    },
    {
     "name": "stdout",
     "output_type": "stream",
     "text": [
      "Batch Loss: 0.0058, Time: 0:00:04\n",
      "Average Validation Loss: 0.15 | Epoch Time: 0:02:42\n",
      "\n",
      "Validation Accuracy for this Epoch: 0.97 | Epoch Time: 0:02:42\n",
      "\n",
      "Epoch 2 / 4\n",
      "Training...\n"
     ]
    },
    {
     "data": {
      "application/vnd.jupyter.widget-view+json": {
       "model_id": "",
       "version_major": 2,
       "version_minor": 0
      },
      "text/plain": [
       "Training:   0%|          | 0/107 [00:00<?, ?it/s]"
      ]
     },
     "metadata": {},
     "output_type": "display_data"
    },
    {
     "name": "stdout",
     "output_type": "stream",
     "text": [
      "Batch Loss: 0.0007, Time: 0:00:13\n",
      "Average training loss: 0.07 | Epoch Time: 0:47:50\n",
      "\n",
      "Training Accuracy for this Epoch: 0.98 | Epoch Time: 0:47:50\n",
      "\n",
      "Validation...\n"
     ]
    },
    {
     "data": {
      "application/vnd.jupyter.widget-view+json": {
       "model_id": "",
       "version_major": 2,
       "version_minor": 0
      },
      "text/plain": [
       "Validation:   0%|          | 0/27 [00:00<?, ?it/s]"
      ]
     },
     "metadata": {},
     "output_type": "display_data"
    },
    {
     "name": "stdout",
     "output_type": "stream",
     "text": [
      "Batch Loss: 0.0018, Time: 0:00:05\n",
      "Average Validation Loss: 0.23 | Epoch Time: 0:03:10\n",
      "\n",
      "Validation Accuracy for this Epoch: 0.96 | Epoch Time: 0:03:10\n",
      "\n",
      "Epoch 3 / 4\n",
      "Training...\n"
     ]
    },
    {
     "data": {
      "application/vnd.jupyter.widget-view+json": {
       "model_id": "",
       "version_major": 2,
       "version_minor": 0
      },
      "text/plain": [
       "Training:   0%|          | 0/107 [00:00<?, ?it/s]"
      ]
     },
     "metadata": {},
     "output_type": "display_data"
    },
    {
     "name": "stdout",
     "output_type": "stream",
     "text": [
      "Batch Loss: 0.0006, Time: 0:00:14\n",
      "Average training loss: 0.03 | Epoch Time: 0:58:23\n",
      "\n",
      "Training Accuracy for this Epoch: 0.99 | Epoch Time: 0:58:23\n",
      "\n",
      "Validation...\n"
     ]
    },
    {
     "data": {
      "application/vnd.jupyter.widget-view+json": {
       "model_id": "",
       "version_major": 2,
       "version_minor": 0
      },
      "text/plain": [
       "Validation:   0%|          | 0/27 [00:00<?, ?it/s]"
      ]
     },
     "metadata": {},
     "output_type": "display_data"
    },
    {
     "name": "stdout",
     "output_type": "stream",
     "text": [
      "Batch Loss: 0.0011, Time: 0:00:05\n",
      "Average Validation Loss: 0.13 | Epoch Time: 0:03:01\n",
      "\n",
      "Validation Accuracy for this Epoch: 0.98 | Epoch Time: 0:03:01\n",
      "\n",
      "Epoch 4 / 4\n",
      "Training...\n"
     ]
    },
    {
     "data": {
      "application/vnd.jupyter.widget-view+json": {
       "model_id": "",
       "version_major": 2,
       "version_minor": 0
      },
      "text/plain": [
       "Training:   0%|          | 0/107 [00:00<?, ?it/s]"
      ]
     },
     "metadata": {},
     "output_type": "display_data"
    },
    {
     "name": "stdout",
     "output_type": "stream",
     "text": [
      "Batch Loss: 0.0008, Time: 0:00:13\n",
      "Average training loss: 0.02 | Epoch Time: 0:47:35\n",
      "\n",
      "Training Accuracy for this Epoch: 1.00 | Epoch Time: 0:47:35\n",
      "\n",
      "Validation...\n"
     ]
    },
    {
     "data": {
      "application/vnd.jupyter.widget-view+json": {
       "model_id": "",
       "version_major": 2,
       "version_minor": 0
      },
      "text/plain": [
       "Validation:   0%|          | 0/27 [00:00<?, ?it/s]"
      ]
     },
     "metadata": {},
     "output_type": "display_data"
    },
    {
     "name": "stdout",
     "output_type": "stream",
     "text": [
      "Batch Loss: 0.0006, Time: 0:00:05\n",
      "Average Validation Loss: 0.13 | Epoch Time: 0:03:02\n",
      "\n",
      "Validation Accuracy for this Epoch: 0.98 | Epoch Time: 0:03:02\n",
      "\n",
      "Collecting predictions and labels from the final epoch of the fold...\n"
     ]
    },
    {
     "data": {
      "application/vnd.jupyter.widget-view+json": {
       "model_id": "",
       "version_major": 2,
       "version_minor": 0
      },
      "text/plain": [
       "Final Epoch Validation:   0%|          | 0/27 [00:00<?, ?it/s]"
      ]
     },
     "metadata": {},
     "output_type": "display_data"
    },
    {
     "name": "stdout",
     "output_type": "stream",
     "text": [
      "\n",
      "Calculating confusion matrix for the final epoch of the fold...\n",
      "\n",
      "Confusion Matrix for Fold 1:\n",
      "[[69  1  1]\n",
      " [ 0 71  0]\n",
      " [ 0  2 69]]\n",
      "\n",
      "==> Fold 2 / 5 <===\n",
      "Optimizer and scheduler set up successfully.\n",
      "\n",
      "Epoch 1 / 4\n",
      "Training...\n"
     ]
    },
    {
     "name": "stderr",
     "output_type": "stream",
     "text": [
      "/Users/areeba/anaconda3/lib/python3.10/site-packages/transformers/optimization.py:306: FutureWarning: This implementation of AdamW is deprecated and will be removed in a future version. Use the PyTorch implementation torch.optim.AdamW instead, or set `no_deprecation_warning=True` to disable this warning\n",
      "  warnings.warn(\n"
     ]
    },
    {
     "data": {
      "application/vnd.jupyter.widget-view+json": {
       "model_id": "",
       "version_major": 2,
       "version_minor": 0
      },
      "text/plain": [
       "Training:   0%|          | 0/107 [00:00<?, ?it/s]"
      ]
     },
     "metadata": {},
     "output_type": "display_data"
    },
    {
     "name": "stdout",
     "output_type": "stream",
     "text": [
      "Batch Loss: 0.0064, Time: 0:00:13\n",
      "Average training loss: 0.14 | Epoch Time: 0:46:57\n",
      "\n",
      "Training Accuracy for this Epoch: 0.98 | Epoch Time: 0:46:57\n",
      "\n",
      "Validation...\n"
     ]
    },
    {
     "data": {
      "application/vnd.jupyter.widget-view+json": {
       "model_id": "",
       "version_major": 2,
       "version_minor": 0
      },
      "text/plain": [
       "Validation:   0%|          | 0/27 [00:00<?, ?it/s]"
      ]
     },
     "metadata": {},
     "output_type": "display_data"
    },
    {
     "name": "stdout",
     "output_type": "stream",
     "text": [
      "Batch Loss: 1.2629, Time: 0:00:04\n",
      "Average Validation Loss: 0.12 | Epoch Time: 0:02:54\n",
      "\n",
      "Validation Accuracy for this Epoch: 0.98 | Epoch Time: 0:02:54\n",
      "\n",
      "Epoch 2 / 4\n",
      "Training...\n"
     ]
    },
    {
     "data": {
      "application/vnd.jupyter.widget-view+json": {
       "model_id": "",
       "version_major": 2,
       "version_minor": 0
      },
      "text/plain": [
       "Training:   0%|          | 0/107 [00:00<?, ?it/s]"
      ]
     },
     "metadata": {},
     "output_type": "display_data"
    },
    {
     "name": "stdout",
     "output_type": "stream",
     "text": [
      "Batch Loss: 0.0007, Time: 0:00:12\n",
      "Average training loss: 0.05 | Epoch Time: 0:45:48\n",
      "\n",
      "Training Accuracy for this Epoch: 0.99 | Epoch Time: 0:45:48\n",
      "\n",
      "Validation...\n"
     ]
    },
    {
     "data": {
      "application/vnd.jupyter.widget-view+json": {
       "model_id": "",
       "version_major": 2,
       "version_minor": 0
      },
      "text/plain": [
       "Validation:   0%|          | 0/27 [00:00<?, ?it/s]"
      ]
     },
     "metadata": {},
     "output_type": "display_data"
    },
    {
     "name": "stdout",
     "output_type": "stream",
     "text": [
      "Batch Loss: 0.0008, Time: 0:00:04\n",
      "Average Validation Loss: 0.08 | Epoch Time: 0:02:47\n",
      "\n",
      "Validation Accuracy for this Epoch: 0.98 | Epoch Time: 0:02:47\n",
      "\n",
      "Epoch 3 / 4\n",
      "Training...\n"
     ]
    },
    {
     "data": {
      "application/vnd.jupyter.widget-view+json": {
       "model_id": "",
       "version_major": 2,
       "version_minor": 0
      },
      "text/plain": [
       "Training:   0%|          | 0/107 [00:00<?, ?it/s]"
      ]
     },
     "metadata": {},
     "output_type": "display_data"
    },
    {
     "name": "stdout",
     "output_type": "stream",
     "text": [
      "Batch Loss: 0.0007, Time: 0:00:12\n",
      "Average training loss: 0.05 | Epoch Time: 0:46:08\n",
      "\n",
      "Training Accuracy for this Epoch: 0.99 | Epoch Time: 0:46:08\n",
      "\n",
      "Validation...\n"
     ]
    },
    {
     "data": {
      "application/vnd.jupyter.widget-view+json": {
       "model_id": "",
       "version_major": 2,
       "version_minor": 0
      },
      "text/plain": [
       "Validation:   0%|          | 0/27 [00:00<?, ?it/s]"
      ]
     },
     "metadata": {},
     "output_type": "display_data"
    },
    {
     "name": "stdout",
     "output_type": "stream",
     "text": [
      "Batch Loss: 0.0014, Time: 0:00:04\n",
      "Average Validation Loss: 0.01 | Epoch Time: 0:02:53\n",
      "\n",
      "Validation Accuracy for this Epoch: 1.00 | Epoch Time: 0:02:53\n",
      "\n",
      "Epoch 4 / 4\n",
      "Training...\n"
     ]
    },
    {
     "data": {
      "application/vnd.jupyter.widget-view+json": {
       "model_id": "",
       "version_major": 2,
       "version_minor": 0
      },
      "text/plain": [
       "Training:   0%|          | 0/107 [00:00<?, ?it/s]"
      ]
     },
     "metadata": {},
     "output_type": "display_data"
    },
    {
     "name": "stdout",
     "output_type": "stream",
     "text": [
      "Batch Loss: 0.0015, Time: 0:00:12\n",
      "Average training loss: 0.04 | Epoch Time: 0:47:05\n",
      "\n",
      "Training Accuracy for this Epoch: 1.00 | Epoch Time: 0:47:05\n",
      "\n",
      "Validation...\n"
     ]
    },
    {
     "data": {
      "application/vnd.jupyter.widget-view+json": {
       "model_id": "",
       "version_major": 2,
       "version_minor": 0
      },
      "text/plain": [
       "Validation:   0%|          | 0/27 [00:00<?, ?it/s]"
      ]
     },
     "metadata": {},
     "output_type": "display_data"
    },
    {
     "name": "stdout",
     "output_type": "stream",
     "text": [
      "Batch Loss: 0.0015, Time: 0:00:05\n",
      "Average Validation Loss: 0.00 | Epoch Time: 0:03:00\n",
      "\n",
      "Validation Accuracy for this Epoch: 1.00 | Epoch Time: 0:03:00\n",
      "\n",
      "Collecting predictions and labels from the final epoch of the fold...\n"
     ]
    },
    {
     "data": {
      "application/vnd.jupyter.widget-view+json": {
       "model_id": "",
       "version_major": 2,
       "version_minor": 0
      },
      "text/plain": [
       "Final Epoch Validation:   0%|          | 0/27 [00:00<?, ?it/s]"
      ]
     },
     "metadata": {},
     "output_type": "display_data"
    },
    {
     "name": "stdout",
     "output_type": "stream",
     "text": [
      "\n",
      "Calculating confusion matrix for the final epoch of the fold...\n",
      "\n",
      "Confusion Matrix for Fold 2:\n",
      "[[71  0  0]\n",
      " [ 0 71  0]\n",
      " [ 0  0 71]]\n",
      "\n",
      "==> Fold 3 / 5 <===\n",
      "Optimizer and scheduler set up successfully.\n",
      "\n",
      "Epoch 1 / 4\n",
      "Training...\n"
     ]
    },
    {
     "name": "stderr",
     "output_type": "stream",
     "text": [
      "/Users/areeba/anaconda3/lib/python3.10/site-packages/transformers/optimization.py:306: FutureWarning: This implementation of AdamW is deprecated and will be removed in a future version. Use the PyTorch implementation torch.optim.AdamW instead, or set `no_deprecation_warning=True` to disable this warning\n",
      "  warnings.warn(\n"
     ]
    },
    {
     "data": {
      "application/vnd.jupyter.widget-view+json": {
       "model_id": "",
       "version_major": 2,
       "version_minor": 0
      },
      "text/plain": [
       "Training:   0%|          | 0/107 [00:00<?, ?it/s]"
      ]
     },
     "metadata": {},
     "output_type": "display_data"
    },
    {
     "name": "stdout",
     "output_type": "stream",
     "text": [
      "Batch Loss: 0.0002, Time: 0:00:14\n",
      "Average training loss: 0.09 | Epoch Time: 0:53:25\n",
      "\n",
      "Training Accuracy for this Epoch: 0.99 | Epoch Time: 0:53:25\n",
      "\n",
      "Validation...\n"
     ]
    },
    {
     "data": {
      "application/vnd.jupyter.widget-view+json": {
       "model_id": "",
       "version_major": 2,
       "version_minor": 0
      },
      "text/plain": [
       "Validation:   0%|          | 0/27 [00:00<?, ?it/s]"
      ]
     },
     "metadata": {},
     "output_type": "display_data"
    },
    {
     "name": "stdout",
     "output_type": "stream",
     "text": [
      "Batch Loss: 0.0001, Time: 0:00:05\n",
      "Average Validation Loss: 0.04 | Epoch Time: 0:03:13\n",
      "\n",
      "Validation Accuracy for this Epoch: 1.00 | Epoch Time: 0:03:13\n",
      "\n",
      "Epoch 2 / 4\n",
      "Training...\n"
     ]
    },
    {
     "data": {
      "application/vnd.jupyter.widget-view+json": {
       "model_id": "",
       "version_major": 2,
       "version_minor": 0
      },
      "text/plain": [
       "Training:   0%|          | 0/107 [00:00<?, ?it/s]"
      ]
     },
     "metadata": {},
     "output_type": "display_data"
    },
    {
     "name": "stdout",
     "output_type": "stream",
     "text": [
      "Batch Loss: 0.0017, Time: 0:00:18\n",
      "Average training loss: 0.03 | Epoch Time: 0:56:34\n",
      "\n",
      "Training Accuracy for this Epoch: 1.00 | Epoch Time: 0:56:34\n",
      "\n",
      "Validation...\n"
     ]
    },
    {
     "data": {
      "application/vnd.jupyter.widget-view+json": {
       "model_id": "",
       "version_major": 2,
       "version_minor": 0
      },
      "text/plain": [
       "Validation:   0%|          | 0/27 [00:00<?, ?it/s]"
      ]
     },
     "metadata": {},
     "output_type": "display_data"
    },
    {
     "name": "stdout",
     "output_type": "stream",
     "text": [
      "Batch Loss: 0.0001, Time: 0:00:05\n",
      "Average Validation Loss: 0.05 | Epoch Time: 0:03:47\n",
      "\n",
      "Validation Accuracy for this Epoch: 1.00 | Epoch Time: 0:03:47\n",
      "\n",
      "Epoch 3 / 4\n",
      "Training...\n"
     ]
    },
    {
     "data": {
      "application/vnd.jupyter.widget-view+json": {
       "model_id": "",
       "version_major": 2,
       "version_minor": 0
      },
      "text/plain": [
       "Training:   0%|          | 0/107 [00:00<?, ?it/s]"
      ]
     },
     "metadata": {},
     "output_type": "display_data"
    },
    {
     "name": "stdout",
     "output_type": "stream",
     "text": [
      "Batch Loss: 0.0001, Time: 0:00:13\n",
      "Average training loss: 0.02 | Epoch Time: 1:10:30\n",
      "\n",
      "Training Accuracy for this Epoch: 1.00 | Epoch Time: 1:10:30\n",
      "\n",
      "Validation...\n"
     ]
    },
    {
     "data": {
      "application/vnd.jupyter.widget-view+json": {
       "model_id": "",
       "version_major": 2,
       "version_minor": 0
      },
      "text/plain": [
       "Validation:   0%|          | 0/27 [00:00<?, ?it/s]"
      ]
     },
     "metadata": {},
     "output_type": "display_data"
    },
    {
     "name": "stdout",
     "output_type": "stream",
     "text": [
      "Batch Loss: 0.0001, Time: 0:00:04\n",
      "Average Validation Loss: 0.05 | Epoch Time: 0:02:48\n",
      "\n",
      "Validation Accuracy for this Epoch: 1.00 | Epoch Time: 0:02:48\n",
      "\n",
      "Epoch 4 / 4\n",
      "Training...\n"
     ]
    },
    {
     "data": {
      "application/vnd.jupyter.widget-view+json": {
       "model_id": "",
       "version_major": 2,
       "version_minor": 0
      },
      "text/plain": [
       "Training:   0%|          | 0/107 [00:00<?, ?it/s]"
      ]
     },
     "metadata": {},
     "output_type": "display_data"
    },
    {
     "name": "stdout",
     "output_type": "stream",
     "text": [
      "Batch Loss: 0.0002, Time: 0:00:13\n",
      "Average training loss: 0.01 | Epoch Time: 0:48:06\n",
      "\n",
      "Training Accuracy for this Epoch: 1.00 | Epoch Time: 0:48:06\n",
      "\n",
      "Validation...\n"
     ]
    },
    {
     "data": {
      "application/vnd.jupyter.widget-view+json": {
       "model_id": "",
       "version_major": 2,
       "version_minor": 0
      },
      "text/plain": [
       "Validation:   0%|          | 0/27 [00:00<?, ?it/s]"
      ]
     },
     "metadata": {},
     "output_type": "display_data"
    },
    {
     "name": "stdout",
     "output_type": "stream",
     "text": [
      "Batch Loss: 0.0001, Time: 0:00:04\n",
      "Average Validation Loss: 0.05 | Epoch Time: 0:02:52\n",
      "\n",
      "Validation Accuracy for this Epoch: 1.00 | Epoch Time: 0:02:52\n",
      "\n",
      "Collecting predictions and labels from the final epoch of the fold...\n"
     ]
    },
    {
     "data": {
      "application/vnd.jupyter.widget-view+json": {
       "model_id": "",
       "version_major": 2,
       "version_minor": 0
      },
      "text/plain": [
       "Final Epoch Validation:   0%|          | 0/27 [00:00<?, ?it/s]"
      ]
     },
     "metadata": {},
     "output_type": "display_data"
    },
    {
     "name": "stdout",
     "output_type": "stream",
     "text": [
      "\n",
      "Calculating confusion matrix for the final epoch of the fold...\n",
      "\n",
      "Confusion Matrix for Fold 3:\n",
      "[[71  0  0]\n",
      " [ 0 70  1]\n",
      " [ 0  0 71]]\n",
      "\n",
      "==> Fold 4 / 5 <===\n",
      "Optimizer and scheduler set up successfully.\n",
      "\n",
      "Epoch 1 / 4\n",
      "Training...\n"
     ]
    },
    {
     "name": "stderr",
     "output_type": "stream",
     "text": [
      "/Users/areeba/anaconda3/lib/python3.10/site-packages/transformers/optimization.py:306: FutureWarning: This implementation of AdamW is deprecated and will be removed in a future version. Use the PyTorch implementation torch.optim.AdamW instead, or set `no_deprecation_warning=True` to disable this warning\n",
      "  warnings.warn(\n"
     ]
    },
    {
     "data": {
      "application/vnd.jupyter.widget-view+json": {
       "model_id": "",
       "version_major": 2,
       "version_minor": 0
      },
      "text/plain": [
       "Training:   0%|          | 0/107 [00:00<?, ?it/s]"
      ]
     },
     "metadata": {},
     "output_type": "display_data"
    },
    {
     "name": "stdout",
     "output_type": "stream",
     "text": [
      "Batch Loss: 0.0002, Time: 0:00:14\n",
      "Average training loss: 0.05 | Epoch Time: 0:47:30\n",
      "\n",
      "Training Accuracy for this Epoch: 0.99 | Epoch Time: 0:47:30\n",
      "\n",
      "Validation...\n"
     ]
    },
    {
     "data": {
      "application/vnd.jupyter.widget-view+json": {
       "model_id": "",
       "version_major": 2,
       "version_minor": 0
      },
      "text/plain": [
       "Validation:   0%|          | 0/27 [00:00<?, ?it/s]"
      ]
     },
     "metadata": {},
     "output_type": "display_data"
    },
    {
     "name": "stdout",
     "output_type": "stream",
     "text": [
      "Batch Loss: 0.0002, Time: 0:00:04\n",
      "Average Validation Loss: 0.00 | Epoch Time: 0:02:55\n",
      "\n",
      "Validation Accuracy for this Epoch: 1.00 | Epoch Time: 0:02:55\n",
      "\n",
      "Epoch 2 / 4\n",
      "Training...\n"
     ]
    },
    {
     "data": {
      "application/vnd.jupyter.widget-view+json": {
       "model_id": "",
       "version_major": 2,
       "version_minor": 0
      },
      "text/plain": [
       "Training:   0%|          | 0/107 [00:00<?, ?it/s]"
      ]
     },
     "metadata": {},
     "output_type": "display_data"
    },
    {
     "name": "stdout",
     "output_type": "stream",
     "text": [
      "Batch Loss: 0.0008, Time: 0:00:15\n",
      "Average training loss: 0.02 | Epoch Time: 0:47:11\n",
      "\n",
      "Training Accuracy for this Epoch: 1.00 | Epoch Time: 0:47:11\n",
      "\n",
      "Validation...\n"
     ]
    },
    {
     "data": {
      "application/vnd.jupyter.widget-view+json": {
       "model_id": "",
       "version_major": 2,
       "version_minor": 0
      },
      "text/plain": [
       "Validation:   0%|          | 0/27 [00:00<?, ?it/s]"
      ]
     },
     "metadata": {},
     "output_type": "display_data"
    },
    {
     "name": "stdout",
     "output_type": "stream",
     "text": [
      "Batch Loss: 0.0004, Time: 0:00:05\n",
      "Average Validation Loss: 0.00 | Epoch Time: 0:02:51\n",
      "\n",
      "Validation Accuracy for this Epoch: 1.00 | Epoch Time: 0:02:51\n",
      "\n",
      "Epoch 3 / 4\n",
      "Training...\n"
     ]
    },
    {
     "data": {
      "application/vnd.jupyter.widget-view+json": {
       "model_id": "",
       "version_major": 2,
       "version_minor": 0
      },
      "text/plain": [
       "Training:   0%|          | 0/107 [00:00<?, ?it/s]"
      ]
     },
     "metadata": {},
     "output_type": "display_data"
    },
    {
     "name": "stdout",
     "output_type": "stream",
     "text": [
      "Batch Loss: 0.0003, Time: 0:00:14\n",
      "Average training loss: 0.01 | Epoch Time: 0:55:21\n",
      "\n",
      "Training Accuracy for this Epoch: 1.00 | Epoch Time: 0:55:21\n",
      "\n",
      "Validation...\n"
     ]
    },
    {
     "data": {
      "application/vnd.jupyter.widget-view+json": {
       "model_id": "",
       "version_major": 2,
       "version_minor": 0
      },
      "text/plain": [
       "Validation:   0%|          | 0/27 [00:00<?, ?it/s]"
      ]
     },
     "metadata": {},
     "output_type": "display_data"
    },
    {
     "name": "stdout",
     "output_type": "stream",
     "text": [
      "Batch Loss: 0.0005, Time: 0:00:05\n",
      "Average Validation Loss: 0.00 | Epoch Time: 0:03:13\n",
      "\n",
      "Validation Accuracy for this Epoch: 1.00 | Epoch Time: 0:03:13\n",
      "\n",
      "Epoch 4 / 4\n",
      "Training...\n"
     ]
    },
    {
     "data": {
      "application/vnd.jupyter.widget-view+json": {
       "model_id": "",
       "version_major": 2,
       "version_minor": 0
      },
      "text/plain": [
       "Training:   0%|          | 0/107 [00:00<?, ?it/s]"
      ]
     },
     "metadata": {},
     "output_type": "display_data"
    },
    {
     "name": "stdout",
     "output_type": "stream",
     "text": [
      "Batch Loss: 0.0004, Time: 0:00:22\n",
      "Average training loss: 0.01 | Epoch Time: 1:04:29\n",
      "\n",
      "Training Accuracy for this Epoch: 1.00 | Epoch Time: 1:04:29\n",
      "\n",
      "Validation...\n"
     ]
    },
    {
     "data": {
      "application/vnd.jupyter.widget-view+json": {
       "model_id": "",
       "version_major": 2,
       "version_minor": 0
      },
      "text/plain": [
       "Validation:   0%|          | 0/27 [00:00<?, ?it/s]"
      ]
     },
     "metadata": {},
     "output_type": "display_data"
    },
    {
     "name": "stdout",
     "output_type": "stream",
     "text": [
      "Batch Loss: 0.0008, Time: 0:00:08\n",
      "Average Validation Loss: 0.00 | Epoch Time: 0:05:14\n",
      "\n",
      "Validation Accuracy for this Epoch: 1.00 | Epoch Time: 0:05:14\n",
      "\n",
      "Collecting predictions and labels from the final epoch of the fold...\n"
     ]
    },
    {
     "data": {
      "application/vnd.jupyter.widget-view+json": {
       "model_id": "",
       "version_major": 2,
       "version_minor": 0
      },
      "text/plain": [
       "Final Epoch Validation:   0%|          | 0/27 [00:00<?, ?it/s]"
      ]
     },
     "metadata": {},
     "output_type": "display_data"
    },
    {
     "name": "stdout",
     "output_type": "stream",
     "text": [
      "\n",
      "Calculating confusion matrix for the final epoch of the fold...\n",
      "\n",
      "Confusion Matrix for Fold 4:\n",
      "[[71  0  0]\n",
      " [ 0 71  0]\n",
      " [ 0  0 71]]\n",
      "\n",
      "==> Fold 5 / 5 <===\n",
      "Optimizer and scheduler set up successfully.\n",
      "\n",
      "Epoch 1 / 4\n",
      "Training...\n"
     ]
    },
    {
     "name": "stderr",
     "output_type": "stream",
     "text": [
      "/Users/areeba/anaconda3/lib/python3.10/site-packages/transformers/optimization.py:306: FutureWarning: This implementation of AdamW is deprecated and will be removed in a future version. Use the PyTorch implementation torch.optim.AdamW instead, or set `no_deprecation_warning=True` to disable this warning\n",
      "  warnings.warn(\n"
     ]
    },
    {
     "data": {
      "application/vnd.jupyter.widget-view+json": {
       "model_id": "",
       "version_major": 2,
       "version_minor": 0
      },
      "text/plain": [
       "Training:   0%|          | 0/107 [00:00<?, ?it/s]"
      ]
     },
     "metadata": {},
     "output_type": "display_data"
    },
    {
     "name": "stdout",
     "output_type": "stream",
     "text": [
      "Batch Loss: 0.0000, Time: 0:00:22\n",
      "Average training loss: 0.01 | Epoch Time: 1:26:00\n",
      "\n",
      "Training Accuracy for this Epoch: 1.00 | Epoch Time: 1:26:00\n",
      "\n",
      "Validation...\n"
     ]
    },
    {
     "data": {
      "application/vnd.jupyter.widget-view+json": {
       "model_id": "",
       "version_major": 2,
       "version_minor": 0
      },
      "text/plain": [
       "Validation:   0%|          | 0/27 [00:00<?, ?it/s]"
      ]
     },
     "metadata": {},
     "output_type": "display_data"
    },
    {
     "name": "stdout",
     "output_type": "stream",
     "text": [
      "Batch Loss: 0.0000, Time: 0:00:06\n",
      "Average Validation Loss: 0.00 | Epoch Time: 0:05:06\n",
      "\n",
      "Validation Accuracy for this Epoch: 1.00 | Epoch Time: 0:05:06\n",
      "\n",
      "Epoch 2 / 4\n",
      "Training...\n"
     ]
    },
    {
     "data": {
      "application/vnd.jupyter.widget-view+json": {
       "model_id": "",
       "version_major": 2,
       "version_minor": 0
      },
      "text/plain": [
       "Training:   0%|          | 0/107 [00:00<?, ?it/s]"
      ]
     },
     "metadata": {},
     "output_type": "display_data"
    },
    {
     "name": "stdout",
     "output_type": "stream",
     "text": [
      "Batch Loss: 0.0001, Time: 0:00:14\n",
      "Average training loss: 0.03 | Epoch Time: 0:47:46\n",
      "\n",
      "Training Accuracy for this Epoch: 1.00 | Epoch Time: 0:47:46\n",
      "\n",
      "Validation...\n"
     ]
    },
    {
     "data": {
      "application/vnd.jupyter.widget-view+json": {
       "model_id": "",
       "version_major": 2,
       "version_minor": 0
      },
      "text/plain": [
       "Validation:   0%|          | 0/27 [00:00<?, ?it/s]"
      ]
     },
     "metadata": {},
     "output_type": "display_data"
    },
    {
     "name": "stdout",
     "output_type": "stream",
     "text": [
      "Batch Loss: 0.0003, Time: 0:00:04\n",
      "Average Validation Loss: 0.00 | Epoch Time: 0:02:50\n",
      "\n",
      "Validation Accuracy for this Epoch: 1.00 | Epoch Time: 0:02:50\n",
      "\n",
      "Epoch 3 / 4\n",
      "Training...\n"
     ]
    },
    {
     "data": {
      "application/vnd.jupyter.widget-view+json": {
       "model_id": "",
       "version_major": 2,
       "version_minor": 0
      },
      "text/plain": [
       "Training:   0%|          | 0/107 [00:00<?, ?it/s]"
      ]
     },
     "metadata": {},
     "output_type": "display_data"
    },
    {
     "name": "stdout",
     "output_type": "stream",
     "text": [
      "Batch Loss: 0.0009, Time: 0:00:13\n",
      "Average training loss: 0.04 | Epoch Time: 0:46:41\n",
      "\n",
      "Training Accuracy for this Epoch: 1.00 | Epoch Time: 0:46:41\n",
      "\n",
      "Validation...\n"
     ]
    },
    {
     "data": {
      "application/vnd.jupyter.widget-view+json": {
       "model_id": "",
       "version_major": 2,
       "version_minor": 0
      },
      "text/plain": [
       "Validation:   0%|          | 0/27 [00:00<?, ?it/s]"
      ]
     },
     "metadata": {},
     "output_type": "display_data"
    },
    {
     "name": "stdout",
     "output_type": "stream",
     "text": [
      "Batch Loss: 0.0022, Time: 0:00:04\n",
      "Average Validation Loss: 0.03 | Epoch Time: 0:02:49\n",
      "\n",
      "Validation Accuracy for this Epoch: 1.00 | Epoch Time: 0:02:49\n",
      "\n",
      "Epoch 4 / 4\n",
      "Training...\n"
     ]
    },
    {
     "data": {
      "application/vnd.jupyter.widget-view+json": {
       "model_id": "",
       "version_major": 2,
       "version_minor": 0
      },
      "text/plain": [
       "Training:   0%|          | 0/107 [00:00<?, ?it/s]"
      ]
     },
     "metadata": {},
     "output_type": "display_data"
    },
    {
     "name": "stdout",
     "output_type": "stream",
     "text": [
      "Batch Loss: 0.0007, Time: 0:00:14\n",
      "Average training loss: 0.02 | Epoch Time: 0:47:28\n",
      "\n",
      "Training Accuracy for this Epoch: 1.00 | Epoch Time: 0:47:28\n",
      "\n",
      "Validation...\n"
     ]
    },
    {
     "data": {
      "application/vnd.jupyter.widget-view+json": {
       "model_id": "",
       "version_major": 2,
       "version_minor": 0
      },
      "text/plain": [
       "Validation:   0%|          | 0/27 [00:00<?, ?it/s]"
      ]
     },
     "metadata": {},
     "output_type": "display_data"
    },
    {
     "name": "stdout",
     "output_type": "stream",
     "text": [
      "Batch Loss: 0.0013, Time: 0:00:04\n",
      "Average Validation Loss: 0.03 | Epoch Time: 0:02:51\n",
      "\n",
      "Validation Accuracy for this Epoch: 1.00 | Epoch Time: 0:02:51\n",
      "\n",
      "Collecting predictions and labels from the final epoch of the fold...\n"
     ]
    },
    {
     "data": {
      "application/vnd.jupyter.widget-view+json": {
       "model_id": "",
       "version_major": 2,
       "version_minor": 0
      },
      "text/plain": [
       "Final Epoch Validation:   0%|          | 0/27 [00:00<?, ?it/s]"
      ]
     },
     "metadata": {},
     "output_type": "display_data"
    },
    {
     "name": "stdout",
     "output_type": "stream",
     "text": [
      "\n",
      "Calculating confusion matrix for the final epoch of the fold...\n",
      "\n",
      "Confusion Matrix for Fold 5:\n",
      "[[71  0  0]\n",
      " [ 0 70  1]\n",
      " [ 0  0 71]]\n",
      "\n",
      "K-Fold Cross-validation complete!\n"
     ]
    }
   ],
   "source": [
    "# Setting the random seed for reproducibility across multiple runs\n",
    "seed_val = 42\n",
    "random.seed(seed_val)\n",
    "np.random.seed(seed_val)\n",
    "torch.manual_seed(seed_val)\n",
    "torch.cuda.manual_seed_all(seed_val)\n",
    "\n",
    "# Enable gradient updates for all parameters in the BERT model (trainable)\n",
    "for param in model.bert.parameters():\n",
    "    param.requires_grad = True\n",
    "\n",
    "# Lists to store metrics for each fold during K-Fold Cross-Validation\n",
    "all_folds_train_losses = []\n",
    "all_folds_val_losses = []\n",
    "all_folds_train_accuracies = []\n",
    "all_folds_val_accuracies = []\n",
    "\n",
    "  \"\"\"\n",
    "  The metrics are used for the overall evaluation of the\n",
    "    trained model and saving it as well simultaneously\n",
    "    \n",
    "    \"\"\"\n",
    "\n",
    "# Preparing K-Fold Cross-Validation with 5 folds or splits and batch size set to 8\n",
    "n_splits = 5\n",
    "batch_size = 8\n",
    "skf = StratifiedKFold(n_splits=n_splits, shuffle=True, random_state=seed_val)\n",
    "loss_function = CrossEntropyLoss() # Defining the loss fucntion for classification\n",
    "\n",
    "# Initialize lists for collecting true labels and predictions across all folds\n",
    "\n",
    "all_true_labels = []\n",
    "all_predictions = []\n",
    "\n",
    "# K-Fold Cross-Validation Loop\n",
    "for fold, (train_idx, val_idx) in enumerate(skf.split(input_ids, labels.numpy())):\n",
    "    print(f'\\n==> Fold {fold + 1} / {n_splits} <===')\n",
    "\n",
    "    # Lists to store metrics for the current fold\n",
    "    fold_train_losses = []\n",
    "    fold_val_losses = []\n",
    "    fold_train_accuracies = []\n",
    "    fold_val_accuracies = []\n",
    "    fold_predictions = []\n",
    "    fold_true_labels = []\n",
    "    \n",
    "    # Create training and validation subsets for the current fold\n",
    "    train_subset = TensorDataset(input_ids[train_idx], attention_masks[train_idx], labels[train_idx])\n",
    "    val_subset = TensorDataset(input_ids[val_idx], attention_masks[val_idx], labels[val_idx])\n",
    "\n",
    "    # Create dataloaders for training and validation subsets\n",
    "    train_dataloader = DataLoader(train_subset, sampler=RandomSampler(train_subset), batch_size=batch_size)\n",
    "    validation_dataloader = DataLoader(val_subset, sampler=SequentialSampler(val_subset), batch_size=batch_size)\n",
    "\n",
    "    # AdamW is a class from the huggingface library\n",
    "    optimizer = AdamW(model.parameters(),\n",
    "                      lr=5e-5,  # Learning rate\n",
    "                      eps=1e-8  # Epsilon to prevent division by zero in optimizer updates\n",
    "    )\n",
    "\n",
    "    # Number of training epochs \n",
    "    epochs = 4\n",
    "\n",
    "    # Total number of training steps is the number of batches per epoch times the number of epochs\n",
    "    total_steps = len(train_dataloader) * epochs\n",
    "\n",
    "    # Creating the learning rate scheduler to decrease the learning rate as training progresses\n",
    "    scheduler = get_linear_schedule_with_warmup(optimizer, \n",
    "                                            num_warmup_steps=0,  # No warmup steps\n",
    "                                            num_training_steps=total_steps)\n",
    "\n",
    "    print(\"Optimizer and scheduler set up successfully.\")\n",
    "        \n",
    "    # The Main Training Loop\n",
    "    for epoch_i in range(0, epochs):\n",
    "        print(f'\\nEpoch {epoch_i + 1} / {epochs}')\n",
    "        print('Training...')\n",
    "        start_time_epoch = time.time()\n",
    "\n",
    "        total_train_loss = 0\n",
    "        total_train_accuracy = 0\n",
    "        model.train()\n",
    "\n",
    "        for batch in tqdm(train_dataloader, desc='Training', leave=False):\n",
    "            start_time_batch = time.time()\n",
    "\n",
    "            b_input_ids = batch[0].to(device)\n",
    "            b_input_mask = batch[1].to(device)\n",
    "            b_labels = batch[2].to(device)\n",
    "\n",
    "            model.zero_grad()        \n",
    "            outputs = model(b_input_ids, token_type_ids=None, attention_mask=b_input_mask, labels=b_labels)\n",
    "            loss = outputs.loss\n",
    "            total_train_loss += loss.item()\n",
    "            loss.backward()\n",
    "            torch.nn.utils.clip_grad_norm_(model.parameters(), 1.0)\n",
    "            optimizer.step()\n",
    "            scheduler.step()\n",
    "\n",
    "            # Calculate batch accuracy\n",
    "            logits = outputs.logits\n",
    "            preds = torch.argmax(logits, dim=1).flatten()\n",
    "            batch_accuracy = (preds == b_labels).cpu().numpy().mean()\n",
    "            total_train_accuracy += batch_accuracy\n",
    "\n",
    "            elapsed_time_batch = str(timedelta(seconds=int(round(time.time() - start_time_batch))))\n",
    "            print(f\"Batch Loss: {loss.item():.4f}, Time: {elapsed_time_batch}\", end='\\r')\n",
    "\n",
    "        elapsed_time_epoch = str(timedelta(seconds=int(round(time.time() - start_time_epoch))))\n",
    "        avg_train_loss = total_train_loss / len(train_dataloader)\n",
    "        fold_train_losses.append(avg_train_loss)\n",
    "        train_accuracy_for_this_epoch = total_train_accuracy / len(train_dataloader)\n",
    "        fold_train_accuracies.append(train_accuracy_for_this_epoch)\n",
    "        print(f\"\\nAverage training loss: {avg_train_loss:.2f} | Epoch Time: {elapsed_time_epoch}\")\n",
    "        print(f\"\\nTraining Accuracy for this Epoch: {train_accuracy_for_this_epoch:.2f} | Epoch Time: {elapsed_time_epoch}\")\n",
    "\n",
    "        # The Validation Loop\n",
    "        print('\\nValidation...')\n",
    "        start_time_epoch = time.time()\n",
    "        model.eval()\n",
    "        total_eval_loss = 0\n",
    "        total_eval_accuracy = 0\n",
    "        nb_eval_steps = 0  # Counting the number of validation steps (batches)\n",
    "\n",
    "        for batch in tqdm(validation_dataloader, desc='Validation', leave=False):\n",
    "            start_time_batch = time.time()\n",
    "\n",
    "            b_input_ids = batch[0].to(device)\n",
    "            b_input_mask = batch[1].to(device)\n",
    "            b_labels = batch[2].to(device)\n",
    "\n",
    "            with torch.no_grad():\n",
    "                outputs = model(b_input_ids, token_type_ids=None, attention_mask=b_input_mask)\n",
    "                logits = outputs.logits\n",
    "                # Compute validation loss\n",
    "                loss = loss_function(logits, b_labels)\n",
    "                total_eval_loss += loss.item()\n",
    "\n",
    "            logits = logits.detach().cpu().numpy()\n",
    "            label_ids = b_labels.to('cpu').numpy()\n",
    "            # label_ids = b_labels.to('cuda').numpy()\n",
    "            \n",
    "            # Calculate and accumulate batch accuracy\n",
    "            tmp_eval_accuracy = accuracy_score(label_ids, np.argmax(logits, axis=1).flatten())\n",
    "            total_eval_accuracy += tmp_eval_accuracy\n",
    "            nb_eval_steps += 1  # Increment the count of validation steps\n",
    "\n",
    "            elapsed_time_batch = str(timedelta(seconds=int(round(time.time() - start_time_batch))))\n",
    "            print(f\"Batch Loss: {loss.item():.4f}, Time: {elapsed_time_batch}\", end='\\r')\n",
    "\n",
    "        elapsed_time_epoch = str(timedelta(seconds=int(round(time.time() - start_time_epoch))))\n",
    "        # Calculate the average validation loss and accuracy for the epoch\n",
    "        avg_val_loss = total_eval_loss / nb_eval_steps\n",
    "        avg_val_accuracy = total_eval_accuracy / nb_eval_steps\n",
    "        fold_val_losses.append(avg_val_loss)\n",
    "        fold_val_accuracies.append(avg_val_accuracy)\n",
    "\n",
    "        print(f\"\\nAverage Validation Loss: {avg_val_loss:.2f} | Epoch Time: {str(timedelta(seconds=int(round(time.time() - start_time_epoch))))}\")\n",
    "        print(f\"\\nValidation Accuracy for this Epoch: {avg_val_accuracy:.2f} | Epoch Time: {str(timedelta(seconds=int(round(time.time() - start_time_epoch))))}\")\n",
    "        \n",
    "    # Accumulate predictions and true labels only after the final epoch of the fold\n",
    "    if epoch_i == epochs - 1:\n",
    "        print('\\nCollecting predictions and labels from the final epoch of the fold...')\n",
    "        for batch in tqdm(validation_dataloader, desc='Final Epoch Validation', leave=False):\n",
    "            b_input_ids = batch[0].to(device)\n",
    "            b_input_mask = batch[1].to(device)\n",
    "            b_labels = batch[2].to(device)\n",
    "\n",
    "            with torch.no_grad():\n",
    "                outputs = model(b_input_ids, token_type_ids=None, attention_mask=b_input_mask)\n",
    "                logits = outputs.logits\n",
    "\n",
    "            logits = logits.detach().cpu().numpy()\n",
    "            label_ids = b_labels.to('cpu').numpy()\n",
    "\n",
    "            batch_predictions = np.argmax(logits, axis=1)\n",
    "            all_predictions.extend(batch_predictions)\n",
    "            all_true_labels.extend(label_ids)  \n",
    "            \n",
    "    # After the last epoch of the fold, calculate and print the confusion matrix\n",
    "    if epoch_i == epochs - 1:\n",
    "        print('\\nCalculating confusion matrix for the final epoch of the fold...')\n",
    "\n",
    "        # Ensure model is in evaluation mode\n",
    "        model.eval()\n",
    "\n",
    "        # Iterate over the validation data\n",
    "        for batch in validation_dataloader:\n",
    "            b_input_ids = batch[0].to(device)\n",
    "            b_input_mask = batch[1].to(device)\n",
    "            b_labels = batch[2].to(device)\n",
    "\n",
    "            with torch.no_grad():\n",
    "                outputs = model(b_input_ids, token_type_ids=None, attention_mask=b_input_mask)\n",
    "                logits = outputs.logits\n",
    "\n",
    "            logits = logits.detach().cpu().numpy()\n",
    "            label_ids = b_labels.to('cpu').numpy()\n",
    "\n",
    "            batch_predictions = np.argmax(logits, axis=1)\n",
    "            fold_predictions.extend(batch_predictions)\n",
    "            fold_true_labels.extend(label_ids)\n",
    "\n",
    "        # Calculate the confusion matrix for this fold\n",
    "        cm = confusion_matrix(fold_true_labels, fold_predictions)\n",
    "        print(f\"\\nConfusion Matrix for Fold {fold + 1}:\")\n",
    "        print(cm)       \n",
    "        \n",
    "        # Append fold metrics to overall lists\n",
    "        all_folds_train_losses.append(fold_train_losses)\n",
    "        all_folds_val_losses.append(fold_val_losses)\n",
    "        all_folds_train_accuracies.append(fold_train_accuracies)\n",
    "        all_folds_val_accuracies.append(fold_val_accuracies)\n",
    "        \n",
    "\n",
    "print(\"\\nK-Fold Cross-validation complete!\")"
   ]
  },
  {
   "cell_type": "markdown",
   "id": "b412fe21",
   "metadata": {},
   "source": [
    "## Reproducibility Setup:\n",
    "- Provides a seed (`seed_val`) to be used across runs to ensure reproducibility in randomness, created by both `random`, NumPy (`np`), and PyTorch (`torch`).\n",
    "\n",
    "## Model Configuration\n",
    "Train the Full Model\n",
    "\n",
    "## Key Variables and Constants\n",
    "Batch Size: A constant defining how many samples a batch is supposed to contain for both training and validation.\n",
    "- **Loss Function**: Uses `CrossEntropyLoss` for multi-class classification.\n",
    "\n",
    "### Setup K-Fold Cross-Validation:\n",
    "- Stratified K-Fold Cross-Validation (`n_splits=5`) for equal class distribution in each fold. \n",
    "- `skf`: The object for generating StratifiedKFold training and validation splits.\n",
    "\n",
    "### Optimizer and Scheduler:\n",
    "- Sets the **AdamW optimizer** with the learning rate along with epsilon. \n",
    "- **Scheduler**: A linear learning rate scheduler based on computed `total_steps` over training epochs.\n",
    "\n",
    "Training and Validation Loops:\n",
    "- **Training Loop**: \n",
    "- It puts the model into the training mode using `model.train()`, and then, with batch processing, it calculates the losses and accuracies.\n",
    "- Prints the Batch Loss, Average Training Loss, Accuracy, and time for every epoch.\n",
    "\n",
    "- **Validation Loop**:\n",
    "- Puts the model into evaluation mode by calling `model.eval()` to compute validation losses and accuracies.\n",
    "- Reports batch and average validation metrics for each fold.\n",
    "\n",
    "### Cross-Validation Process:\n",
    "- Iterates over folds, creating train-validation splits using `skf`. \n",
    "- Reinitializes the optimizer and scheduler for each fold. \n",
    "- Collects predictions and true labels for confusion matrix generation. \n",
    "- Appends fold-specific metrics (losses and accuracies) to overall lists for post-evaluation.\n",
    "\n",
    "### Confusion Matrix:\n",
    "- Calculates and prints out confusion matrices at the end of every fold to assess performance.\n",
    "\n",
    "### Completion:\n",
    "- Provides a final print statement that K-Fold Cross-Validation has finished, and all predictions and true labels have been generated along with their confusion matrices."
   ]
  },
  {
   "cell_type": "code",
   "execution_count": 8,
   "id": "a1a2b570",
   "metadata": {},
   "outputs": [
    {
     "name": "stdout",
     "output_type": "stream",
     "text": [
      "Model and metrics saved to KHANAreeba_aifinal_model.pth\n"
     ]
    }
   ],
   "source": [
    "# A .pth file path is specified for saving the model\n",
    "model_metrics_save_path = \"KHANAreeba_aifinal_model.pth\"\n",
    "\n",
    "# Saving the model's state dictionary and training/validation metrics\n",
    "torch.save({\n",
    "    'model_state_dict': model.state_dict(),\n",
    "    'all_folds_train_losses': all_folds_train_losses,\n",
    "    'all_folds_val_losses': all_folds_val_losses,\n",
    "    'all_folds_train_accuracies': all_folds_train_accuracies,\n",
    "    'all_folds_val_accuracies': all_folds_val_accuracies,\n",
    "    'all_predictions': all_predictions,\n",
    "    'all_true_labels': all_true_labels,\n",
    "}, model_metrics_save_path)\n",
    "\n",
    "print(f\"Model and metrics saved to {model_metrics_save_path}\")"
   ]
  },
  {
   "cell_type": "markdown",
   "id": "54d0ae78",
   "metadata": {},
   "source": [
    "Defines a variable that contains the file path to save the model and its metrics: `model_metrics_save_path`\n",
    "Saves the model's state dictionary and critical training/validation metrics using `torch.save()`.\n",
    "`model.state_dict()`: This holds all the learnable parameters of the model, hence a snapshot of its state after training.\n",
    "`all_folds_train_losses`, `all_folds_val_losses`: Lists to capture the train and validation losses of each fold for performance analysis across iterations.\n",
    "`all_folds_train_accuracies`, `all_folds_val_accuracies`: Lists to store the training and validation accuracies for each fold to track the model performance.\n",
    "Clearly returns a confirmation message, in case the model and its metrics are successfully saved at the file path given for transparency and reproducibility."
   ]
  },
  {
   "cell_type": "markdown",
   "id": "ca556c86",
   "metadata": {},
   "source": [
    "## Evaluation Metrics"
   ]
  },
  {
   "cell_type": "markdown",
   "id": "ed49a637",
   "metadata": {},
   "source": [
    "## Accuracy"
   ]
  },
  {
   "cell_type": "code",
   "execution_count": 11,
   "id": "82f2c8b1",
   "metadata": {},
   "outputs": [
    {
     "name": "stdout",
     "output_type": "stream",
     "text": [
      "Average Accuracy across all folds: 0.9943661971830986\n"
     ]
    }
   ],
   "source": [
    "accuracy = accuracy_score(all_true_labels, all_predictions)\n",
    "print(\"Average Accuracy across all folds:\", accuracy)\n",
    "with open('accuracy2.txt', 'w') as f:\n",
    "    f.write(str(accuracy))"
   ]
  },
  {
   "cell_type": "markdown",
   "id": "30210620",
   "metadata": {},
   "source": [
    "## Training Metrics: Precision, Recall and F1-Score"
   ]
  },
  {
   "cell_type": "code",
   "execution_count": 18,
   "id": "5c52d02e",
   "metadata": {},
   "outputs": [
    {
     "name": "stdout",
     "output_type": "stream",
     "text": [
      "╒═══════════════════╤═════════════╤══════════╤════════════╤═══════════╕\n",
      "│ Label             │ Precision   │ Recall   │   F1-Score │   Support │\n",
      "╞═══════════════════╪═════════════╪══════════╪════════════╪═══════════╡\n",
      "│ Astronomy         │ 1.0         │ 0.99     │   1        │       355 │\n",
      "├───────────────────┼─────────────┼──────────┼────────────┼───────────┤\n",
      "│ Political Science │ 0.99        │ 0.99     │   0.99     │       355 │\n",
      "├───────────────────┼─────────────┼──────────┼────────────┼───────────┤\n",
      "│ Psychology        │ 0.99        │ 0.99     │   0.99     │       355 │\n",
      "├───────────────────┼─────────────┼──────────┼────────────┼───────────┤\n",
      "│ Overall Accuracy  │             │          │   0.994366 │           │\n",
      "╘═══════════════════╧═════════════╧══════════╧════════════╧═══════════╛\n"
     ]
    }
   ],
   "source": [
    "import sklearn.metrics as metrics\n",
    "from tabulate import tabulate\n",
    "\n",
    "# Generate the classification report as a dictionary\n",
    "report_dict = metrics.classification_report(\n",
    "    all_true_labels, \n",
    "    all_predictions, \n",
    "    target_names=['Astronomy', 'Political Science', 'Psychology'], \n",
    "    output_dict=True\n",
    ")\n",
    "\n",
    "# Convert the report dictionary into a tabular format\n",
    "table_data = []\n",
    "for label, values in report_dict.items():\n",
    "    if label in ['Astronomy', 'Political Science', 'Psychology', 'accuracy']:\n",
    "        if label == 'accuracy':\n",
    "            table_data.append(['Overall Accuracy', '', '', values])\n",
    "        else:\n",
    "            table_data.append([\n",
    "                label, \n",
    "                round(values['precision'], 2), \n",
    "                round(values['recall'], 2), \n",
    "                round(values['f1-score'], 2)\n",
    "            ])\n",
    "            \n",
    "# Add support (sample count) at the end if required\n",
    "for label, values in report_dict.items():\n",
    "    if label in ['Astronomy', 'Political Science', 'Psychology']:\n",
    "        support = int(values['support'])\n",
    "        for row in table_data:\n",
    "            if row[0] == label:\n",
    "                row.append(support)\n",
    "\n",
    "# Add header for the table\n",
    "headers = ['Label', 'Precision', 'Recall', 'F1-Score', 'Support']\n",
    "\n",
    "# Create the table\n",
    "pretty_table = tabulate(table_data, headers=headers, tablefmt='fancy_grid')\n",
    "\n",
    "# Print the table\n",
    "print(pretty_table)\n",
    "\n",
    "# Save the table to a text file\n",
    "with open('classification_report_1.txt', 'w') as f:\n",
    "    f.write(pretty_table)\n"
   ]
  },
  {
   "cell_type": "markdown",
   "id": "2dc07f5d",
   "metadata": {},
   "source": [
    "## Plotting the ROC Curve"
   ]
  },
  {
   "cell_type": "code",
   "execution_count": 16,
   "id": "1488b84f",
   "metadata": {},
   "outputs": [
    {
     "data": {
      "image/png": "[encoded data removed]",
      "text/plain": [
       "<Figure size 1000x800 with 1 Axes>"
      ]
     },
     "metadata": {},
     "output_type": "display_data"
    }
   ],
   "source": [
    "import numpy as np\n",
    "from sklearn.metrics import roc_curve, auc\n",
    "from sklearn.preprocessing import label_binarize\n",
    "import matplotlib.pyplot as plt\n",
    "\n",
    "# Assume the classes are ['Astronomy', 'Political Science', 'Psychology']\n",
    "classes = ['Astronomy', 'Political Science', 'Psychology']\n",
    "n_classes = len(classes)\n",
    "\n",
    "# Convert `all_true_labels` and `all_predictions` to one-hot encoding\n",
    "all_true_labels_one_hot = label_binarize(all_true_labels, classes=[0, 1, 2])  # Adjust the class indices as needed\n",
    "all_predictions_one_hot = label_binarize(all_predictions, classes=[0, 1, 2])\n",
    "\n",
    "# Compute ROC curve and ROC AUC for each class\n",
    "fpr = dict()\n",
    "tpr = dict()\n",
    "roc_auc = dict()\n",
    "\n",
    "for i in range(n_classes):\n",
    "    fpr[i], tpr[i], _ = roc_curve(all_true_labels_one_hot[:, i], all_predictions_one_hot[:, i])\n",
    "    roc_auc[i] = auc(fpr[i], tpr[i])\n",
    "\n",
    "# Compute micro-average ROC curve and AUC\n",
    "fpr[\"micro\"], tpr[\"micro\"], _ = roc_curve(all_true_labels_one_hot.ravel(), all_predictions_one_hot.ravel())\n",
    "roc_auc[\"micro\"] = auc(fpr[\"micro\"], tpr[\"micro\"])\n",
    "\n",
    "# Plot the ROC curve for each class\n",
    "plt.figure(figsize=(10, 8))\n",
    "\n",
    "for i in range(n_classes):\n",
    "    plt.plot(fpr[i], tpr[i], label=f'ROC curve for {classes[i]} (area = {roc_auc[i]:.2f})')\n",
    "\n",
    "# Plot the micro-average ROC curve\n",
    "plt.plot(fpr[\"micro\"], tpr[\"micro\"],\n",
    "         label=f'Micro-average ROC curve (area = {roc_auc[\"micro\"]:.2f})',\n",
    "         color='deeppink', linestyle=':', linewidth=4)\n",
    "\n",
    "# Plot a diagonal line for reference\n",
    "plt.plot([0, 1], [0, 1], 'k--', lw=2, label='Reference')\n",
    "\n",
    "# Add labels and legend\n",
    "plt.xlabel('False Positive Rate')\n",
    "plt.ylabel('True Positive Rate')\n",
    "plt.title('Multiclass ROC Curve')\n",
    "plt.legend(loc='lower right')\n",
    "plt.grid(alpha=0.5)\n",
    "plt.tight_layout()\n",
    "\n",
    "# Save the plot\n",
    "plt.savefig('multiclass_roc_curve.png')\n",
    "plt.show()\n"
   ]
  },
  {
   "cell_type": "markdown",
   "id": "1750cf0a",
   "metadata": {},
   "source": [
    "## The image shows a multiclass ROC (Receiver Operating Characteristic) curve comparing the performance of a classifier across three different categories: Astronomy, Political Science, and Psychology. The micro-average ROC curve is also plotted.\n",
    "\n",
    "=>x-axis: False Positive Rate (0.0 to 1.0)\n",
    "\n",
    "=>Y-axis: True Positive Rate (0.0 to 1.0)\n",
    "\n",
    "=>Reference line: Represents random classifier performance (0.5 AUC)\n",
    "\n",
    "=>Micro-average: Aggregate performance across all classes"
   ]
  },
  {
   "cell_type": "markdown",
   "id": "3b027d97",
   "metadata": {},
   "source": [
    "## Plotting the Loss and Accuracy per Epoch"
   ]
  },
  {
   "cell_type": "code",
   "execution_count": 17,
   "id": "52acf30b",
   "metadata": {
    "scrolled": false
   },
   "outputs": [
    {
     "data": {
      "image/png": "[encoded data removed]",
      "text/plain": [
       "<Figure size 1200x600 with 1 Axes>"
      ]
     },
     "metadata": {},
     "output_type": "display_data"
    },
    {
     "data": {
      "image/png": "[encoded data removed]",
      "text/plain": [
       "<Figure size 1200x600 with 1 Axes>"
      ]
     },
     "metadata": {},
     "output_type": "display_data"
    }
   ],
   "source": [
    "import matplotlib.pyplot as plt\n",
    "import numpy as np\n",
    "\n",
    "# These are 5 folds of train/validation losses and accuracies for 4 epochs each\n",
    "\n",
    "\n",
    "# Calculate averages across folds\n",
    "avg_train_losses = np.mean(all_folds_train_losses, axis=0)\n",
    "avg_val_losses = np.mean(all_folds_val_losses, axis=0)\n",
    "avg_train_accuracies = np.mean(all_folds_train_accuracies, axis=0)\n",
    "avg_val_accuracies = np.mean(all_folds_val_accuracies, axis=0)\n",
    "\n",
    "# Plot Losses\n",
    "plt.figure(figsize=(12, 6))\n",
    "epochs = range(1, len(avg_train_losses) + 1)\n",
    "plt.plot(epochs, avg_train_losses, label='Train Loss', marker='o')\n",
    "plt.plot(epochs, avg_val_losses, label='Validation Loss', marker='o')\n",
    "plt.title('Loss per Epoch')\n",
    "plt.xlabel('Epochs')\n",
    "plt.ylabel('Loss')\n",
    "plt.legend()\n",
    "plt.grid(True, alpha=0.3)\n",
    "plt.show()\n",
    "\n",
    "# Plot Accuracies\n",
    "plt.figure(figsize=(12, 6))\n",
    "plt.plot(epochs, avg_train_accuracies, label='Train Accuracy', marker='o')\n",
    "plt.plot(epochs, avg_val_accuracies, label='Validation Accuracy', marker='o')\n",
    "plt.title('Accuracy per Epoch')\n",
    "plt.xlabel('Epochs')\n",
    "plt.ylabel('Accuracy')\n",
    "plt.legend()\n",
    "plt.grid(True, alpha=0.3)\n",
    "plt.show()\n"
   ]
  },
  {
   "cell_type": "markdown",
   "id": "e179f5ec",
   "metadata": {},
   "source": [
    "**Loss per Epoch (Graph 1)**\n",
    "\n",
    "=> X-axis: Epochs (range: 1.0 to 4.0)\n",
    "\n",
    "=> Y-axis: Loss (range: 0.00 to 0.14)\n",
    "\n",
    "=> Legend: Train Loss (blue), Validation Loss (orange)\n",
    "\n",
    "=> Graph type: Line plot with markers\n",
    "\n",
    "**Accuracy per Epoch (Graph 2)**\n",
    "\n",
    "=> X-axis: Epochs (range: 1.0 to 4.0)\n",
    "\n",
    "=> Y-axis: Accuracy (range: 0.960 to 0.995)\n",
    "\n",
    "=> Legend: Train Accuracy (blue), Validation Accuracy (orange)\n",
    "\n",
    "=> Graph type: Line plot with markers\n",
    "\n"
   ]
  },
  {
   "cell_type": "markdown",
   "id": "b273b368",
   "metadata": {},
   "source": [
    "## Plotting the Confusion Matrix"
   ]
  },
  {
   "cell_type": "code",
   "execution_count": 13,
   "id": "b925f9a6",
   "metadata": {},
   "outputs": [
    {
     "name": "stdout",
     "output_type": "stream",
     "text": [
      "Confusion Matrix:\n",
      "[[353   1   1]\n",
      " [  0 353   2]\n",
      " [  0   2 353]]\n"
     ]
    }
   ],
   "source": [
    "from sklearn.metrics import confusion_matrix\n",
    "\n",
    "# Calculate the confusion matrix using sklearn's confusion_matrix function\n",
    "cm = confusion_matrix(all_true_labels, all_predictions)\n",
    "\n",
    "print(\"Confusion Matrix:\")\n",
    "print(cm)\n",
    "with open('confusion_matrix_2.txt', 'w') as f:\n",
    "    f.write(str(cm))"
   ]
  },
  {
   "cell_type": "code",
   "execution_count": 15,
   "id": "69317265",
   "metadata": {},
   "outputs": [
    {
     "data": {
      "image/png": "[encoded data removed]",
      "text/plain": [
       "<Figure size 800x600 with 2 Axes>"
      ]
     },
     "metadata": {},
     "output_type": "display_data"
    }
   ],
   "source": [
    "import matplotlib.pyplot as plt\n",
    "import numpy as np\n",
    "\n",
    "# Confusion matrix data\n",
    "cm = np.array([[353,   1,   1],\n",
    "               [  0, 353,   2],\n",
    "               [  0,   2, 353]])\n",
    "\n",
    "# Plotting the confusion matrix\n",
    "fig, ax = plt.subplots(figsize=(8, 6))\n",
    "\n",
    "\n",
    "cax = ax.matshow(cm, cmap='Blues', alpha=0.8)\n",
    "\n",
    "# Adding color bar\n",
    "cbar = plt.colorbar(cax)\n",
    "cbar.ax.set_ylabel('Frequency', rotation=270, labelpad=15, fontsize=12)\n",
    "\n",
    "# Adding annotations with bold formatting\n",
    "for (i, j), val in np.ndenumerate(cm):\n",
    "    ax.text(j, i, f'{val}', ha='center', va='center', \n",
    "            color='black', fontsize=10, weight='bold')\n",
    "\n",
    "# Setting axis labels and title\n",
    "plt.xlabel('Predicted Labels', fontsize=12, weight='bold')\n",
    "plt.ylabel('Actual Labels', fontsize=12, weight='bold')\n",
    "plt.title('Confusion Matrix', fontsize=14, weight='bold')\n",
    "\n",
    "# Showing the tick labels\n",
    "categories = ['Astronomy', 'Political Science', 'Psychology']\n",
    "ax.set_xticks(range(len(categories)))\n",
    "ax.set_yticks(range(len(categories)))\n",
    "ax.set_xticklabels(categories, fontsize=10, weight='bold')\n",
    "ax.set_yticklabels(categories, fontsize=10, weight='bold')\n",
    "\n",
    "# Adding gridlines for better separation\n",
    "ax.grid(False)  # Turned off default grid\n",
    "ax.set_xticks(np.arange(-0.5, len(categories), 1), minor=True)\n",
    "ax.set_yticks(np.arange(-0.5, len(categories), 1), minor=True)\n",
    "ax.grid(which=\"minor\", color=\"black\", linestyle='-', linewidth=0.5)\n",
    "\n",
    "# Saving the plot\n",
    "plt.tight_layout()\n",
    "plt.savefig('confusion_matrix_2.png', dpi=300)\n",
    "plt.show()\n"
   ]
  },
  {
   "cell_type": "markdown",
   "id": "8c8682a4",
   "metadata": {},
   "source": [
    "**Astronomy:**\n",
    "- **True Positives (TP):** The model correctly predicted 'Astronomy' 353 times.  \n",
    "- **False Positives (FP):** The model incorrectly predicted 'Astronomy' 0 times for 'Political Science' and 0 times for 'Psychology'.  \n",
    "- **False Negatives (FN):** The model failed to predict 'Astronomy' 1 time for 'Political Science' and 1 time for 'Psychology'.  \n",
    "- **True Negatives (TN):** The model correctly identified 'Political Science' and 'Psychology' instances that were not 'Astronomy'.  \n",
    "\n",
    "**Political Science:**\n",
    "- **True Positives (TP):** The model correctly predicted 'Political Science' 353 times.  \n",
    "- **False Positives (FP):** The model incorrectly predicted 'Political Science' 1 time for 'Astronomy' and 2 times for 'Psychology'.  \n",
    "- **False Negatives (FN):** The model failed to predict 'Political Science' 0 times for 'Astronomy' and 2 times for 'Psychology'.  \n",
    "- **True Negatives (TN):** The model correctly identified 'Astronomy' and 'Psychology' instances that were not 'Political Science'.  \n",
    "\n",
    "**Psychology:**\n",
    "- **True Positives (TP):** The model correctly predicted 'Psychology' 353 times.  \n",
    "- **False Positives (FP):** The model incorrectly predicted 'Psychology' 1 time for 'Astronomy' and 2 times for 'Political Science'.  \n",
    "- **False Negatives (FN):** The model failed to predict 'Psychology' 0 times for 'Astronomy' and 2 times for 'Political Science'.  \n",
    "- **True Negatives (TN):** The model correctly identified 'Astronomy' and 'Political Science' instances that were not 'Psychology'.  "
   ]
  },
  {
   "cell_type": "code",
   "execution_count": null,
   "id": "f4096096",
   "metadata": {},
   "outputs": [],
   "source": []
  }
 ],
 "metadata": {
  "kernelspec": {
   "display_name": "Python 3 (ipykernel)",
   "language": "python",
   "name": "python3"
  },
  "language_info": {
   "codemirror_mode": {
    "name": "ipython",
    "version": 3
   },
   "file_extension": ".py",
   "mimetype": "text/x-python",
   "name": "python",
   "nbconvert_exporter": "python",
   "pygments_lexer": "ipython3",
   "version": "3.10.9"
  }
 },
 "nbformat": 4,
 "nbformat_minor": 5
}
