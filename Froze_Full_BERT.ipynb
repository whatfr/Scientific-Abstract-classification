{
 "cells": [
  {
   "cell_type": "markdown",
   "id": "29899f1d",
   "metadata": {},
   "source": [
    "## Libraries Imported"
   ]
  },
  {
   "cell_type": "code",
   "execution_count": 2,
   "id": "906c25fc",
   "metadata": {},
   "outputs": [],
   "source": [
    "import torch\n",
    "from transformers import BertTokenizer, BertForSequenceClassification\n",
    "from torch.nn import CrossEntropyLoss\n",
    "from torch.utils.data import DataLoader, RandomSampler, SequentialSampler, TensorDataset, random_split\n",
    "from transformers import AdamW, get_linear_schedule_with_warmup\n",
    "import numpy as np\n",
    "from sklearn.metrics import accuracy_score\n",
    "import pandas as pd\n",
    "import random\n",
    "import time\n",
    "from datetime import timedelta\n",
    "from sklearn.model_selection import StratifiedKFold\n",
    "from tqdm.auto import tqdm\n",
    "from sklearn.metrics import accuracy_score, precision_score, recall_score, f1_score\n",
    "import ast\n",
    "import matplotlib.pyplot as plt\n",
    "from sklearn.metrics import confusion_matrix"
   ]
  },
  {
   "cell_type": "markdown",
   "id": "ebe27004",
   "metadata": {},
   "source": [
    "## Library Description:\n",
    "- `torch`: A deep learning library for building and training neural networks.\n",
    "- `transformers`: A library pre-trained transformer models for NLP tasks.\n",
    "- `CrossEntropyLoss`: A PyTorch loss function for multi-class classification problems.\n",
    "- `DataLoader`: A PyTorch utility to efficiently load and batch data.\n",
    "- `RandomSampler`, `SequentialSampler`: Tools for shuffling or ordering data in PyTorch DataLoader.\n",
    "- `TensorDataset`: A PyTorch dataset class for combining tensors.\n",
    "- `random_split`: A PyTorch function to split datasets into train/test subsets.\n",
    "- `AdamW`: An optimizer to train deep learning models with weight decay.\n",
    "- `get_linear_schedule_with_warmup`: A learning rate scheduler for gradual warmup and linear decay.\n",
    "- `numpy`: The library to perform numerical computation and array manipulation.\n",
    "- `accuracy_score`: A metric to calculate the proportion of correct predictions.\n",
    "- `pandas`: A library to manipulate and analyze data.\n",
    "- `random`: Module that provides functionality for generating random numbers and shuffling data.\n",
    "- `time`: Module used to measure runtime, basically anything that involves time or time-related operations.\n",
    "- `timedelta`: Class used to calculate the difference between two dates and times.\n",
    "- `StratifiedKFold`: Technique of cross-validation that creates folds for stratification.\n",
    "- `tqdm`: Library for creating progress bars.\n",
    "- `precision_score`, `recall_score`, `f1_score`: Parameters for classification results.\n",
    "- `ast`: Module used for parsing and analyzing Python abstract syntax trees.\n",
    "- `matplotlib.pyplot`: A library to create visualizations and plots.\n",
    "- `confusion_matrix`: Metric to assess the predictions of the model in classification tasks.\n",
    "```\n"
   ]
  },
  {
   "cell_type": "markdown",
   "id": "178fa3d2",
   "metadata": {},
   "source": [
    "## DataSet Preparation"
   ]
  },
  {
   "cell_type": "code",
   "execution_count": 6,
   "id": "b195c40d",
   "metadata": {},
   "outputs": [
    {
     "name": "stdout",
     "output_type": "stream",
     "text": [
      "Dataset loaded successfully.\n",
      "Total number of abstracts in the dataset: 1065\n",
      "Tokenization completed successfully.\n",
      "Input IDs shape: torch.Size([1065, 512])\n",
      "Attention Masks shape: torch.Size([1065, 512])\n",
      "Labels shape: torch.Size([1065])\n"
     ]
    }
   ],
   "source": [
    "import torch\n",
    "from transformers import BertTokenizer\n",
    "import pandas as pd\n",
    "\n",
    "def tokenize_dataset(dataset, tokenizer, max_len=512):\n",
    "    \"\"\"\n",
    "    \n",
    "   Here, Tokenizes the input dataset using BERT's tokenizer.\n",
    "   One abstract is truncated to 'max_len'.\n",
    "   Here, the tokenized inputs are returned along with attention masks.\n",
    "    \n",
    "    \"\"\"\n",
    "    input_ids = []\n",
    "    attention_masks = []\n",
    "\n",
    "    try:\n",
    "        # Iterating over each abstract in the dataset\n",
    "        for abstract in dataset['Abstract_Tokens']:\n",
    "            # Encoding each abstract respectively\n",
    "            encoded_dict = tokenizer.encode_plus(\n",
    "                abstract,\n",
    "                add_special_tokens=True,  # Add '[CLS]' and '[SEP]'\n",
    "                max_length=max_len,       # Pad or truncate to max_len\n",
    "                truncation=True,          # Truncate longer sequences\n",
    "                padding='max_length',     # Pad shorter sequences\n",
    "                return_attention_mask=True,  # Generate attention masks\n",
    "                return_tensors='pt',      # Return PyTorch tensors\n",
    "            )\n",
    "            input_ids.append(encoded_dict['input_ids'][0])\n",
    "            attention_masks.append(encoded_dict['attention_mask'][0])\n",
    "\n",
    "        # Convert lists to tensors\n",
    "        input_ids = torch.stack(input_ids, dim=0)\n",
    "        attention_masks = torch.stack(attention_masks, dim=0)\n",
    "\n",
    "        # Convert labels to tensors\n",
    "        labels = torch.tensor(dataset['label'].values)\n",
    "\n",
    "        return input_ids, attention_masks, labels\n",
    "\n",
    "    except KeyError as e:\n",
    "        print(f\"KeyError: {e}. Please ensure the dataset contains the required column 'Abstract_Tokens'.\")\n",
    "        return None, None, None\n",
    "    except Exception as e:\n",
    "        print(f\"An error occurred during tokenization: {e}\")\n",
    "        return None, None, None\n",
    "\n",
    "\n",
    "# Load the dataset\n",
    "try:\n",
    "    df = pd.read_csv('output_file.csv')  # Use the output file from your preprocessing step\n",
    "    print(\"Dataset loaded successfully.\")\n",
    "\n",
    "    # Ensure the required columns exist\n",
    "    if 'Abstract_Tokens' not in df.columns or 'Category' not in df.columns:\n",
    "        raise ValueError(\"The dataset must contain 'Abstract_tokens' and 'Category' columns.\")\n",
    "\n",
    "    # Map category labels to numeric values\n",
    "    df['label'] = df['Category'].map({'Astronomy': 0, 'Political Science': 1, 'Psychology': 2})\n",
    "\n",
    "    if df['label'].isnull().any():\n",
    "        raise ValueError(\"The 'Category' column contains unknown labels. Ensure all categories are mapped correctly.\")\n",
    "\n",
    "    print(\"Total number of abstracts in the dataset:\", df.shape[0])\n",
    "\n",
    "    # Initialize the BERT tokenizer\n",
    "    tokenizer = BertTokenizer.from_pretrained('bert-base-uncased', do_lower_case=True)\n",
    "\n",
    "    # Tokenize the dataset\n",
    "    input_ids, attention_masks, labels = tokenize_dataset(df, tokenizer)\n",
    "\n",
    "    if input_ids is not None:\n",
    "        print(\"Tokenization completed successfully.\")\n",
    "        print(f\"Input IDs shape: {input_ids.shape}\")\n",
    "        print(f\"Attention Masks shape: {attention_masks.shape}\")\n",
    "        print(f\"Labels shape: {labels.shape}\")\n",
    "    else:\n",
    "        print(\"Tokenization failed. Please check your dataset and parameters.\")\n",
    "\n",
    "except FileNotFoundError as e:\n",
    "    print(f\"FileNotFoundError: {e}. Ensure the file 'output_file.csv' exists in the specified directory.\")\n",
    "except ValueError as e:\n",
    "    print(f\"ValueError: {e}\")\n",
    "except Exception as e:\n",
    "    print(f\"An unexpected error occurred: {e}\")\n"
   ]
  },
  {
   "cell_type": "markdown",
   "id": "d35593b2",
   "metadata": {},
   "source": [
    "## Tokenizing the dataset"
   ]
  },
  {
   "cell_type": "code",
   "execution_count": 7,
   "id": "6edb3c36",
   "metadata": {},
   "outputs": [
    {
     "name": "stdout",
     "output_type": "stream",
     "text": [
      "Tokenized dataset has been saved to 'token_dataset.csv'\n"
     ]
    }
   ],
   "source": [
    "# Convert tensors to lists for saving in CSV\n",
    "input_ids_list = input_ids.numpy().tolist()\n",
    "attention_masks_list = attention_masks.numpy().tolist()\n",
    "labels_list = labels.numpy().tolist()\n",
    "\n",
    "# Create a new DataFrame for saving to CSV\n",
    "tokenized_data = pd.DataFrame({\n",
    "    'input_ids': input_ids_list,\n",
    "    'attention_masks': attention_masks_list,\n",
    "    'labels': labels_list\n",
    "})\n",
    "\n",
    "# Save the DataFrame to a new CSV file\n",
    "tokenized_data.to_csv('token_dataset.csv', index=False)\n",
    "\n",
    "print(\"Tokenized dataset has been saved to 'token_dataset.csv'\")\n"
   ]
  },
  {
   "cell_type": "markdown",
   "id": "635ff768",
   "metadata": {},
   "source": [
    "### Explanation of the Code:\n",
    "\n",
    "#### Function: `tokenize_dataset`\n",
    "\n",
    "- **Parameters:**\n",
    "  - `dataset`: Input dataset containing abstracts and corresponding labels.\n",
    "  - `tokenizer`: BERT tokenizer used for transforming text into tokenized format.\n",
    "  - `max_len`: Maximum token sequence length, ensuring truncation or padding.\n",
    "\n",
    "- **Functionality:**\n",
    "  - Tokenizes the abstracts using BERT's tokenizer while handling truncation or padding to match `max_len`.\n",
    "  - Outputs tokenized `input_ids`, attention masks, and labels, ready for model input.\n",
    "\n",
    "#### Data Loading and Preprocessing:\n",
    "\n",
    "- **Dataset Loading:**\n",
    "  - Loads a CSV file (`output_file.csv`) into a DataFrame (`df`) containing preprocessed abstracts in the column `abstract`.\n",
    "\n",
    "- **Label Encoding:**\n",
    "  - Maps textual labels (`'Astronomy'`, `'Political Science'`, `'Psychology'`) to numeric values (`0`, `1`, `2`) for compatibility with machine learning models.\n",
    "  - Adds a new column `label` to store numeric labels.\n",
    "\n",
    "#### Tokenization and Data Preparation:\n",
    "\n",
    "- **Tokenizer Initialization:**\n",
    "  - Sets up the BERT tokenizer (`bert-base-uncased`), ensuring case insensitivity during text processing.\n",
    "\n",
    "- **Dataset Tokenization:**\n",
    "  - Uses the `tokenize_dataset` function to process abstracts into tokenized inputs (`input_ids`), attention masks, and labels.\n",
    "\n",
    "- **Conversion to Lists:**\n",
    "  - Converts the tokenized tensors (`input_ids`, `attention_masks`, `labels`) to lists for compatibility with file-saving operations.\n",
    "\n",
    "#### DataFrame Creation and Export:\n",
    "\n",
    "- **DataFrame Construction:**\n",
    "  - Creates a new DataFrame (`tokenized_data`) with columns: \n",
    "    - `input_ids`: Encoded token sequences.\n",
    "    - `attention_masks`: Binary masks indicating padded tokens.\n",
    "    - `labels`: Numeric labels.\n",
    "\n",
    "- **Saving as CSV:**\n",
    "  - Exports the tokenized data to a CSV file (`tokenized_dataset.csv`) without index values (`index=False`), ensuring a clean format for future use.\n",
    "\n",
    "\n",
    "#### Final Output:\n",
    "\n",
    "- **Completion Message:**\n",
    "  - Confirms the successful export of the tokenized dataset to `tokenized_dataset.csv`, ready for subsequent training steps."
   ]
  },
  {
   "cell_type": "markdown",
   "id": "ea9763af",
   "metadata": {},
   "source": [
    "## Loading the Model"
   ]
  },
  {
   "cell_type": "code",
   "execution_count": 8,
   "id": "ab65ea24",
   "metadata": {},
   "outputs": [
    {
     "data": {
      "application/vnd.jupyter.widget-view+json": {
       "model_id": "75ffec0edb3e4ea0a320469aa4527a63",
       "version_major": 2,
       "version_minor": 0
      },
      "text/plain": [
       "Downloading:   0%|          | 0.00/440M [00:00<?, ?B/s]"
      ]
     },
     "metadata": {},
     "output_type": "display_data"
    },
    {
     "name": "stderr",
     "output_type": "stream",
     "text": [
      "Some weights of the model checkpoint at bert-base-uncased were not used when initializing BertForSequenceClassification: ['cls.predictions.decoder.weight', 'cls.seq_relationship.bias', 'cls.predictions.transform.dense.weight', 'cls.seq_relationship.weight', 'cls.predictions.transform.LayerNorm.bias', 'cls.predictions.transform.dense.bias', 'cls.predictions.bias', 'cls.predictions.transform.LayerNorm.weight']\n",
      "- This IS expected if you are initializing BertForSequenceClassification from the checkpoint of a model trained on another task or with another architecture (e.g. initializing a BertForSequenceClassification model from a BertForPreTraining model).\n",
      "- This IS NOT expected if you are initializing BertForSequenceClassification from the checkpoint of a model that you expect to be exactly identical (initializing a BertForSequenceClassification model from a BertForSequenceClassification model).\n",
      "Some weights of BertForSequenceClassification were not initialized from the model checkpoint at bert-base-uncased and are newly initialized: ['classifier.bias', 'classifier.weight']\n",
      "You should probably TRAIN this model on a down-stream task to be able to use it for predictions and inference.\n"
     ]
    },
    {
     "name": "stdout",
     "output_type": "stream",
     "text": [
      "Model loaded successfully.\n"
     ]
    }
   ],
   "source": [
    "# Load BertForSequenceClassification, the pretrained BERT model with a single linear classification layer on top.\n",
    "model = BertForSequenceClassification.from_pretrained(\n",
    "    \"bert-base-uncased\",  # Use the 12-layer BERT model, with an uncased vocab.\n",
    "    num_labels=3,  # The number of output labels--3 for your classification task.\n",
    "    output_attentions=False,  # Whether the model returns attentions weights.\n",
    "    output_hidden_states=False,  # Whether the model returns all hidden-states.\n",
    ")\n",
    "\n",
    "print(\"Model loaded successfully.\")"
   ]
  },
  {
   "cell_type": "markdown",
   "id": "c2f63a62",
   "metadata": {},
   "source": [
    "## The Training Loop"
   ]
  },
  {
   "cell_type": "markdown",
   "id": "995e4f90",
   "metadata": {},
   "source": [
    "## Transfer to Device"
   ]
  },
  {
   "cell_type": "code",
   "execution_count": 9,
   "id": "2dacc6b3",
   "metadata": {},
   "outputs": [
    {
     "data": {
      "text/plain": [
       "BertForSequenceClassification(\n",
       "  (bert): BertModel(\n",
       "    (embeddings): BertEmbeddings(\n",
       "      (word_embeddings): Embedding(30522, 768, padding_idx=0)\n",
       "      (position_embeddings): Embedding(512, 768)\n",
       "      (token_type_embeddings): Embedding(2, 768)\n",
       "      (LayerNorm): LayerNorm((768,), eps=1e-12, elementwise_affine=True)\n",
       "      (dropout): Dropout(p=0.1, inplace=False)\n",
       "    )\n",
       "    (encoder): BertEncoder(\n",
       "      (layer): ModuleList(\n",
       "        (0): BertLayer(\n",
       "          (attention): BertAttention(\n",
       "            (self): BertSelfAttention(\n",
       "              (query): Linear(in_features=768, out_features=768, bias=True)\n",
       "              (key): Linear(in_features=768, out_features=768, bias=True)\n",
       "              (value): Linear(in_features=768, out_features=768, bias=True)\n",
       "              (dropout): Dropout(p=0.1, inplace=False)\n",
       "            )\n",
       "            (output): BertSelfOutput(\n",
       "              (dense): Linear(in_features=768, out_features=768, bias=True)\n",
       "              (LayerNorm): LayerNorm((768,), eps=1e-12, elementwise_affine=True)\n",
       "              (dropout): Dropout(p=0.1, inplace=False)\n",
       "            )\n",
       "          )\n",
       "          (intermediate): BertIntermediate(\n",
       "            (dense): Linear(in_features=768, out_features=3072, bias=True)\n",
       "            (intermediate_act_fn): GELUActivation()\n",
       "          )\n",
       "          (output): BertOutput(\n",
       "            (dense): Linear(in_features=3072, out_features=768, bias=True)\n",
       "            (LayerNorm): LayerNorm((768,), eps=1e-12, elementwise_affine=True)\n",
       "            (dropout): Dropout(p=0.1, inplace=False)\n",
       "          )\n",
       "        )\n",
       "        (1): BertLayer(\n",
       "          (attention): BertAttention(\n",
       "            (self): BertSelfAttention(\n",
       "              (query): Linear(in_features=768, out_features=768, bias=True)\n",
       "              (key): Linear(in_features=768, out_features=768, bias=True)\n",
       "              (value): Linear(in_features=768, out_features=768, bias=True)\n",
       "              (dropout): Dropout(p=0.1, inplace=False)\n",
       "            )\n",
       "            (output): BertSelfOutput(\n",
       "              (dense): Linear(in_features=768, out_features=768, bias=True)\n",
       "              (LayerNorm): LayerNorm((768,), eps=1e-12, elementwise_affine=True)\n",
       "              (dropout): Dropout(p=0.1, inplace=False)\n",
       "            )\n",
       "          )\n",
       "          (intermediate): BertIntermediate(\n",
       "            (dense): Linear(in_features=768, out_features=3072, bias=True)\n",
       "            (intermediate_act_fn): GELUActivation()\n",
       "          )\n",
       "          (output): BertOutput(\n",
       "            (dense): Linear(in_features=3072, out_features=768, bias=True)\n",
       "            (LayerNorm): LayerNorm((768,), eps=1e-12, elementwise_affine=True)\n",
       "            (dropout): Dropout(p=0.1, inplace=False)\n",
       "          )\n",
       "        )\n",
       "        (2): BertLayer(\n",
       "          (attention): BertAttention(\n",
       "            (self): BertSelfAttention(\n",
       "              (query): Linear(in_features=768, out_features=768, bias=True)\n",
       "              (key): Linear(in_features=768, out_features=768, bias=True)\n",
       "              (value): Linear(in_features=768, out_features=768, bias=True)\n",
       "              (dropout): Dropout(p=0.1, inplace=False)\n",
       "            )\n",
       "            (output): BertSelfOutput(\n",
       "              (dense): Linear(in_features=768, out_features=768, bias=True)\n",
       "              (LayerNorm): LayerNorm((768,), eps=1e-12, elementwise_affine=True)\n",
       "              (dropout): Dropout(p=0.1, inplace=False)\n",
       "            )\n",
       "          )\n",
       "          (intermediate): BertIntermediate(\n",
       "            (dense): Linear(in_features=768, out_features=3072, bias=True)\n",
       "            (intermediate_act_fn): GELUActivation()\n",
       "          )\n",
       "          (output): BertOutput(\n",
       "            (dense): Linear(in_features=3072, out_features=768, bias=True)\n",
       "            (LayerNorm): LayerNorm((768,), eps=1e-12, elementwise_affine=True)\n",
       "            (dropout): Dropout(p=0.1, inplace=False)\n",
       "          )\n",
       "        )\n",
       "        (3): BertLayer(\n",
       "          (attention): BertAttention(\n",
       "            (self): BertSelfAttention(\n",
       "              (query): Linear(in_features=768, out_features=768, bias=True)\n",
       "              (key): Linear(in_features=768, out_features=768, bias=True)\n",
       "              (value): Linear(in_features=768, out_features=768, bias=True)\n",
       "              (dropout): Dropout(p=0.1, inplace=False)\n",
       "            )\n",
       "            (output): BertSelfOutput(\n",
       "              (dense): Linear(in_features=768, out_features=768, bias=True)\n",
       "              (LayerNorm): LayerNorm((768,), eps=1e-12, elementwise_affine=True)\n",
       "              (dropout): Dropout(p=0.1, inplace=False)\n",
       "            )\n",
       "          )\n",
       "          (intermediate): BertIntermediate(\n",
       "            (dense): Linear(in_features=768, out_features=3072, bias=True)\n",
       "            (intermediate_act_fn): GELUActivation()\n",
       "          )\n",
       "          (output): BertOutput(\n",
       "            (dense): Linear(in_features=3072, out_features=768, bias=True)\n",
       "            (LayerNorm): LayerNorm((768,), eps=1e-12, elementwise_affine=True)\n",
       "            (dropout): Dropout(p=0.1, inplace=False)\n",
       "          )\n",
       "        )\n",
       "        (4): BertLayer(\n",
       "          (attention): BertAttention(\n",
       "            (self): BertSelfAttention(\n",
       "              (query): Linear(in_features=768, out_features=768, bias=True)\n",
       "              (key): Linear(in_features=768, out_features=768, bias=True)\n",
       "              (value): Linear(in_features=768, out_features=768, bias=True)\n",
       "              (dropout): Dropout(p=0.1, inplace=False)\n",
       "            )\n",
       "            (output): BertSelfOutput(\n",
       "              (dense): Linear(in_features=768, out_features=768, bias=True)\n",
       "              (LayerNorm): LayerNorm((768,), eps=1e-12, elementwise_affine=True)\n",
       "              (dropout): Dropout(p=0.1, inplace=False)\n",
       "            )\n",
       "          )\n",
       "          (intermediate): BertIntermediate(\n",
       "            (dense): Linear(in_features=768, out_features=3072, bias=True)\n",
       "            (intermediate_act_fn): GELUActivation()\n",
       "          )\n",
       "          (output): BertOutput(\n",
       "            (dense): Linear(in_features=3072, out_features=768, bias=True)\n",
       "            (LayerNorm): LayerNorm((768,), eps=1e-12, elementwise_affine=True)\n",
       "            (dropout): Dropout(p=0.1, inplace=False)\n",
       "          )\n",
       "        )\n",
       "        (5): BertLayer(\n",
       "          (attention): BertAttention(\n",
       "            (self): BertSelfAttention(\n",
       "              (query): Linear(in_features=768, out_features=768, bias=True)\n",
       "              (key): Linear(in_features=768, out_features=768, bias=True)\n",
       "              (value): Linear(in_features=768, out_features=768, bias=True)\n",
       "              (dropout): Dropout(p=0.1, inplace=False)\n",
       "            )\n",
       "            (output): BertSelfOutput(\n",
       "              (dense): Linear(in_features=768, out_features=768, bias=True)\n",
       "              (LayerNorm): LayerNorm((768,), eps=1e-12, elementwise_affine=True)\n",
       "              (dropout): Dropout(p=0.1, inplace=False)\n",
       "            )\n",
       "          )\n",
       "          (intermediate): BertIntermediate(\n",
       "            (dense): Linear(in_features=768, out_features=3072, bias=True)\n",
       "            (intermediate_act_fn): GELUActivation()\n",
       "          )\n",
       "          (output): BertOutput(\n",
       "            (dense): Linear(in_features=3072, out_features=768, bias=True)\n",
       "            (LayerNorm): LayerNorm((768,), eps=1e-12, elementwise_affine=True)\n",
       "            (dropout): Dropout(p=0.1, inplace=False)\n",
       "          )\n",
       "        )\n",
       "        (6): BertLayer(\n",
       "          (attention): BertAttention(\n",
       "            (self): BertSelfAttention(\n",
       "              (query): Linear(in_features=768, out_features=768, bias=True)\n",
       "              (key): Linear(in_features=768, out_features=768, bias=True)\n",
       "              (value): Linear(in_features=768, out_features=768, bias=True)\n",
       "              (dropout): Dropout(p=0.1, inplace=False)\n",
       "            )\n",
       "            (output): BertSelfOutput(\n",
       "              (dense): Linear(in_features=768, out_features=768, bias=True)\n",
       "              (LayerNorm): LayerNorm((768,), eps=1e-12, elementwise_affine=True)\n",
       "              (dropout): Dropout(p=0.1, inplace=False)\n",
       "            )\n",
       "          )\n",
       "          (intermediate): BertIntermediate(\n",
       "            (dense): Linear(in_features=768, out_features=3072, bias=True)\n",
       "            (intermediate_act_fn): GELUActivation()\n",
       "          )\n",
       "          (output): BertOutput(\n",
       "            (dense): Linear(in_features=3072, out_features=768, bias=True)\n",
       "            (LayerNorm): LayerNorm((768,), eps=1e-12, elementwise_affine=True)\n",
       "            (dropout): Dropout(p=0.1, inplace=False)\n",
       "          )\n",
       "        )\n",
       "        (7): BertLayer(\n",
       "          (attention): BertAttention(\n",
       "            (self): BertSelfAttention(\n",
       "              (query): Linear(in_features=768, out_features=768, bias=True)\n",
       "              (key): Linear(in_features=768, out_features=768, bias=True)\n",
       "              (value): Linear(in_features=768, out_features=768, bias=True)\n",
       "              (dropout): Dropout(p=0.1, inplace=False)\n",
       "            )\n",
       "            (output): BertSelfOutput(\n",
       "              (dense): Linear(in_features=768, out_features=768, bias=True)\n",
       "              (LayerNorm): LayerNorm((768,), eps=1e-12, elementwise_affine=True)\n",
       "              (dropout): Dropout(p=0.1, inplace=False)\n",
       "            )\n",
       "          )\n",
       "          (intermediate): BertIntermediate(\n",
       "            (dense): Linear(in_features=768, out_features=3072, bias=True)\n",
       "            (intermediate_act_fn): GELUActivation()\n",
       "          )\n",
       "          (output): BertOutput(\n",
       "            (dense): Linear(in_features=3072, out_features=768, bias=True)\n",
       "            (LayerNorm): LayerNorm((768,), eps=1e-12, elementwise_affine=True)\n",
       "            (dropout): Dropout(p=0.1, inplace=False)\n",
       "          )\n",
       "        )\n",
       "        (8): BertLayer(\n",
       "          (attention): BertAttention(\n",
       "            (self): BertSelfAttention(\n",
       "              (query): Linear(in_features=768, out_features=768, bias=True)\n",
       "              (key): Linear(in_features=768, out_features=768, bias=True)\n",
       "              (value): Linear(in_features=768, out_features=768, bias=True)\n",
       "              (dropout): Dropout(p=0.1, inplace=False)\n",
       "            )\n",
       "            (output): BertSelfOutput(\n",
       "              (dense): Linear(in_features=768, out_features=768, bias=True)\n",
       "              (LayerNorm): LayerNorm((768,), eps=1e-12, elementwise_affine=True)\n",
       "              (dropout): Dropout(p=0.1, inplace=False)\n",
       "            )\n",
       "          )\n",
       "          (intermediate): BertIntermediate(\n",
       "            (dense): Linear(in_features=768, out_features=3072, bias=True)\n",
       "            (intermediate_act_fn): GELUActivation()\n",
       "          )\n",
       "          (output): BertOutput(\n",
       "            (dense): Linear(in_features=3072, out_features=768, bias=True)\n",
       "            (LayerNorm): LayerNorm((768,), eps=1e-12, elementwise_affine=True)\n",
       "            (dropout): Dropout(p=0.1, inplace=False)\n",
       "          )\n",
       "        )\n",
       "        (9): BertLayer(\n",
       "          (attention): BertAttention(\n",
       "            (self): BertSelfAttention(\n",
       "              (query): Linear(in_features=768, out_features=768, bias=True)\n",
       "              (key): Linear(in_features=768, out_features=768, bias=True)\n",
       "              (value): Linear(in_features=768, out_features=768, bias=True)\n",
       "              (dropout): Dropout(p=0.1, inplace=False)\n",
       "            )\n",
       "            (output): BertSelfOutput(\n",
       "              (dense): Linear(in_features=768, out_features=768, bias=True)\n",
       "              (LayerNorm): LayerNorm((768,), eps=1e-12, elementwise_affine=True)\n",
       "              (dropout): Dropout(p=0.1, inplace=False)\n",
       "            )\n",
       "          )\n",
       "          (intermediate): BertIntermediate(\n",
       "            (dense): Linear(in_features=768, out_features=3072, bias=True)\n",
       "            (intermediate_act_fn): GELUActivation()\n",
       "          )\n",
       "          (output): BertOutput(\n",
       "            (dense): Linear(in_features=3072, out_features=768, bias=True)\n",
       "            (LayerNorm): LayerNorm((768,), eps=1e-12, elementwise_affine=True)\n",
       "            (dropout): Dropout(p=0.1, inplace=False)\n",
       "          )\n",
       "        )\n",
       "        (10): BertLayer(\n",
       "          (attention): BertAttention(\n",
       "            (self): BertSelfAttention(\n",
       "              (query): Linear(in_features=768, out_features=768, bias=True)\n",
       "              (key): Linear(in_features=768, out_features=768, bias=True)\n",
       "              (value): Linear(in_features=768, out_features=768, bias=True)\n",
       "              (dropout): Dropout(p=0.1, inplace=False)\n",
       "            )\n",
       "            (output): BertSelfOutput(\n",
       "              (dense): Linear(in_features=768, out_features=768, bias=True)\n",
       "              (LayerNorm): LayerNorm((768,), eps=1e-12, elementwise_affine=True)\n",
       "              (dropout): Dropout(p=0.1, inplace=False)\n",
       "            )\n",
       "          )\n",
       "          (intermediate): BertIntermediate(\n",
       "            (dense): Linear(in_features=768, out_features=3072, bias=True)\n",
       "            (intermediate_act_fn): GELUActivation()\n",
       "          )\n",
       "          (output): BertOutput(\n",
       "            (dense): Linear(in_features=3072, out_features=768, bias=True)\n",
       "            (LayerNorm): LayerNorm((768,), eps=1e-12, elementwise_affine=True)\n",
       "            (dropout): Dropout(p=0.1, inplace=False)\n",
       "          )\n",
       "        )\n",
       "        (11): BertLayer(\n",
       "          (attention): BertAttention(\n",
       "            (self): BertSelfAttention(\n",
       "              (query): Linear(in_features=768, out_features=768, bias=True)\n",
       "              (key): Linear(in_features=768, out_features=768, bias=True)\n",
       "              (value): Linear(in_features=768, out_features=768, bias=True)\n",
       "              (dropout): Dropout(p=0.1, inplace=False)\n",
       "            )\n",
       "            (output): BertSelfOutput(\n",
       "              (dense): Linear(in_features=768, out_features=768, bias=True)\n",
       "              (LayerNorm): LayerNorm((768,), eps=1e-12, elementwise_affine=True)\n",
       "              (dropout): Dropout(p=0.1, inplace=False)\n",
       "            )\n",
       "          )\n",
       "          (intermediate): BertIntermediate(\n",
       "            (dense): Linear(in_features=768, out_features=3072, bias=True)\n",
       "            (intermediate_act_fn): GELUActivation()\n",
       "          )\n",
       "          (output): BertOutput(\n",
       "            (dense): Linear(in_features=3072, out_features=768, bias=True)\n",
       "            (LayerNorm): LayerNorm((768,), eps=1e-12, elementwise_affine=True)\n",
       "            (dropout): Dropout(p=0.1, inplace=False)\n",
       "          )\n",
       "        )\n",
       "      )\n",
       "    )\n",
       "    (pooler): BertPooler(\n",
       "      (dense): Linear(in_features=768, out_features=768, bias=True)\n",
       "      (activation): Tanh()\n",
       "    )\n",
       "  )\n",
       "  (dropout): Dropout(p=0.1, inplace=False)\n",
       "  (classifier): Linear(in_features=768, out_features=3, bias=True)\n",
       ")"
      ]
     },
     "execution_count": 9,
     "metadata": {},
     "output_type": "execute_result"
    }
   ],
   "source": [
    "# Check if GPU is available and use it; otherwise, use CPU\n",
    "device = torch.device(\"cuda\" if torch.cuda.is_available() else \"cpu\")\n",
    "\n",
    "# Send the model to the device (GPU or CPU)\n",
    "model.to(device)"
   ]
  },
  {
   "cell_type": "code",
   "execution_count": 10,
   "id": "a30d88dc",
   "metadata": {
    "scrolled": true
   },
   "outputs": [
    {
     "name": "stdout",
     "output_type": "stream",
     "text": [
      "\n",
      "======== Fold 1 / 5 ========\n",
      "Optimizer and scheduler set up successfully.\n",
      "\n",
      "Epoch 1 / 4\n",
      "Training...\n"
     ]
    },
    {
     "name": "stderr",
     "output_type": "stream",
     "text": [
      "/Users/areeba/anaconda3/lib/python3.10/site-packages/transformers/optimization.py:306: FutureWarning: This implementation of AdamW is deprecated and will be removed in a future version. Use the PyTorch implementation torch.optim.AdamW instead, or set `no_deprecation_warning=True` to disable this warning\n",
      "  warnings.warn(\n"
     ]
    },
    {
     "data": {
      "application/vnd.jupyter.widget-view+json": {
       "model_id": "",
       "version_major": 2,
       "version_minor": 0
      },
      "text/plain": [
       "Training:   0%|          | 0/27 [00:00<?, ?it/s]"
      ]
     },
     "metadata": {},
     "output_type": "display_data"
    },
    {
     "name": "stdout",
     "output_type": "stream",
     "text": [
      "Batch Loss: 1.0610, Time: 0:00:35\n",
      "Average training loss: 1.14 | Epoch Time: 0:35:08\n",
      "\n",
      "Training Accuracy for this Epoch: 0.33 | Epoch Time: 0:35:08\n",
      "\n",
      "Validation...\n"
     ]
    },
    {
     "data": {
      "application/vnd.jupyter.widget-view+json": {
       "model_id": "",
       "version_major": 2,
       "version_minor": 0
      },
      "text/plain": [
       "Validation:   0%|          | 0/7 [00:00<?, ?it/s]"
      ]
     },
     "metadata": {},
     "output_type": "display_data"
    },
    {
     "name": "stdout",
     "output_type": "stream",
     "text": [
      "Batch Loss: 1.0978, Time: 0:00:30\n",
      "Average Validation Loss: 1.10 | Epoch Time: 0:04:49\n",
      "\n",
      "Validation Accuracy for this Epoch: 0.29 | Epoch Time: 0:04:49\n",
      "\n",
      "Epoch 2 / 4\n",
      "Training...\n"
     ]
    },
    {
     "data": {
      "application/vnd.jupyter.widget-view+json": {
       "model_id": "",
       "version_major": 2,
       "version_minor": 0
      },
      "text/plain": [
       "Training:   0%|          | 0/27 [00:00<?, ?it/s]"
      ]
     },
     "metadata": {},
     "output_type": "display_data"
    },
    {
     "name": "stdout",
     "output_type": "stream",
     "text": [
      "Batch Loss: 1.0647, Time: 0:00:36\n",
      "Average training loss: 1.10 | Epoch Time: 0:25:58\n",
      "\n",
      "Training Accuracy for this Epoch: 0.35 | Epoch Time: 0:25:58\n",
      "\n",
      "Validation...\n"
     ]
    },
    {
     "data": {
      "application/vnd.jupyter.widget-view+json": {
       "model_id": "",
       "version_major": 2,
       "version_minor": 0
      },
      "text/plain": [
       "Validation:   0%|          | 0/7 [00:00<?, ?it/s]"
      ]
     },
     "metadata": {},
     "output_type": "display_data"
    },
    {
     "name": "stdout",
     "output_type": "stream",
     "text": [
      "Batch Loss: 1.1799, Time: 0:00:27\n",
      "Average Validation Loss: 1.11 | Epoch Time: 0:04:50\n",
      "\n",
      "Validation Accuracy for this Epoch: 0.34 | Epoch Time: 0:04:50\n",
      "\n",
      "Epoch 3 / 4\n",
      "Training...\n"
     ]
    },
    {
     "data": {
      "application/vnd.jupyter.widget-view+json": {
       "model_id": "",
       "version_major": 2,
       "version_minor": 0
      },
      "text/plain": [
       "Training:   0%|          | 0/27 [00:00<?, ?it/s]"
      ]
     },
     "metadata": {},
     "output_type": "display_data"
    },
    {
     "name": "stdout",
     "output_type": "stream",
     "text": [
      "Batch Loss: 1.1328, Time: 0:00:36\n",
      "Average training loss: 1.11 | Epoch Time: 0:43:45\n",
      "\n",
      "Training Accuracy for this Epoch: 0.30 | Epoch Time: 0:43:45\n",
      "\n",
      "Validation...\n"
     ]
    },
    {
     "data": {
      "application/vnd.jupyter.widget-view+json": {
       "model_id": "",
       "version_major": 2,
       "version_minor": 0
      },
      "text/plain": [
       "Validation:   0%|          | 0/7 [00:00<?, ?it/s]"
      ]
     },
     "metadata": {},
     "output_type": "display_data"
    },
    {
     "name": "stdout",
     "output_type": "stream",
     "text": [
      "Batch Loss: 1.1579, Time: 0:01:17\n",
      "Average Validation Loss: 1.10 | Epoch Time: 0:05:27\n",
      "\n",
      "Validation Accuracy for this Epoch: 0.31 | Epoch Time: 0:05:27\n",
      "\n",
      "Epoch 4 / 4\n",
      "Training...\n"
     ]
    },
    {
     "data": {
      "application/vnd.jupyter.widget-view+json": {
       "model_id": "",
       "version_major": 2,
       "version_minor": 0
      },
      "text/plain": [
       "Training:   0%|          | 0/27 [00:00<?, ?it/s]"
      ]
     },
     "metadata": {},
     "output_type": "display_data"
    },
    {
     "name": "stdout",
     "output_type": "stream",
     "text": [
      "Batch Loss: 1.0979, Time: 0:00:35\n",
      "Average training loss: 1.11 | Epoch Time: 0:42:26\n",
      "\n",
      "Training Accuracy for this Epoch: 0.32 | Epoch Time: 0:42:26\n",
      "\n",
      "Validation...\n"
     ]
    },
    {
     "data": {
      "application/vnd.jupyter.widget-view+json": {
       "model_id": "",
       "version_major": 2,
       "version_minor": 0
      },
      "text/plain": [
       "Validation:   0%|          | 0/7 [00:00<?, ?it/s]"
      ]
     },
     "metadata": {},
     "output_type": "display_data"
    },
    {
     "name": "stdout",
     "output_type": "stream",
     "text": [
      "Batch Loss: 1.1279, Time: 0:00:27\n",
      "Average Validation Loss: 1.10 | Epoch Time: 0:04:39\n",
      "\n",
      "Validation Accuracy for this Epoch: 0.28 | Epoch Time: 0:04:39\n",
      "\n",
      "Collecting predictions and labels from the final epoch of the fold...\n"
     ]
    },
    {
     "data": {
      "application/vnd.jupyter.widget-view+json": {
       "model_id": "",
       "version_major": 2,
       "version_minor": 0
      },
      "text/plain": [
       "Final Epoch Validation:   0%|          | 0/7 [00:00<?, ?it/s]"
      ]
     },
     "metadata": {},
     "output_type": "display_data"
    },
    {
     "name": "stdout",
     "output_type": "stream",
     "text": [
      "\n",
      "Calculating confusion matrix for the final epoch of the fold...\n",
      "\n",
      "Confusion Matrix for Fold 1:\n",
      "[[23 20 28]\n",
      " [23 30 18]\n",
      " [31 31  9]]\n",
      "\n",
      "======== Fold 2 / 5 ========\n",
      "Optimizer and scheduler set up successfully.\n",
      "\n",
      "Epoch 1 / 4\n",
      "Training...\n"
     ]
    },
    {
     "name": "stderr",
     "output_type": "stream",
     "text": [
      "/Users/areeba/anaconda3/lib/python3.10/site-packages/transformers/optimization.py:306: FutureWarning: This implementation of AdamW is deprecated and will be removed in a future version. Use the PyTorch implementation torch.optim.AdamW instead, or set `no_deprecation_warning=True` to disable this warning\n",
      "  warnings.warn(\n"
     ]
    },
    {
     "data": {
      "application/vnd.jupyter.widget-view+json": {
       "model_id": "",
       "version_major": 2,
       "version_minor": 0
      },
      "text/plain": [
       "Training:   0%|          | 0/27 [00:00<?, ?it/s]"
      ]
     },
     "metadata": {},
     "output_type": "display_data"
    },
    {
     "name": "stdout",
     "output_type": "stream",
     "text": [
      "Batch Loss: 1.0841, Time: 0:00:39\n",
      "Average training loss: 1.11 | Epoch Time: 0:27:18\n",
      "\n",
      "Training Accuracy for this Epoch: 0.33 | Epoch Time: 0:27:18\n",
      "\n",
      "Validation...\n"
     ]
    },
    {
     "data": {
      "application/vnd.jupyter.widget-view+json": {
       "model_id": "",
       "version_major": 2,
       "version_minor": 0
      },
      "text/plain": [
       "Validation:   0%|          | 0/7 [00:00<?, ?it/s]"
      ]
     },
     "metadata": {},
     "output_type": "display_data"
    },
    {
     "name": "stdout",
     "output_type": "stream",
     "text": [
      "Batch Loss: 1.1736, Time: 0:00:29\n",
      "Average Validation Loss: 1.10 | Epoch Time: 0:05:21\n",
      "\n",
      "Validation Accuracy for this Epoch: 0.38 | Epoch Time: 0:05:21\n",
      "\n",
      "Epoch 2 / 4\n",
      "Training...\n"
     ]
    },
    {
     "data": {
      "application/vnd.jupyter.widget-view+json": {
       "model_id": "",
       "version_major": 2,
       "version_minor": 0
      },
      "text/plain": [
       "Training:   0%|          | 0/27 [00:00<?, ?it/s]"
      ]
     },
     "metadata": {},
     "output_type": "display_data"
    },
    {
     "name": "stdout",
     "output_type": "stream",
     "text": [
      "Batch Loss: 1.1268, Time: 0:00:40\n",
      "Average training loss: 1.12 | Epoch Time: 0:28:28\n",
      "\n",
      "Training Accuracy for this Epoch: 0.33 | Epoch Time: 0:28:28\n",
      "\n",
      "Validation...\n"
     ]
    },
    {
     "data": {
      "application/vnd.jupyter.widget-view+json": {
       "model_id": "",
       "version_major": 2,
       "version_minor": 0
      },
      "text/plain": [
       "Validation:   0%|          | 0/7 [00:00<?, ?it/s]"
      ]
     },
     "metadata": {},
     "output_type": "display_data"
    },
    {
     "name": "stdout",
     "output_type": "stream",
     "text": [
      "Batch Loss: 1.1867, Time: 0:00:31\n",
      "Average Validation Loss: 1.10 | Epoch Time: 0:05:21\n",
      "\n",
      "Validation Accuracy for this Epoch: 0.35 | Epoch Time: 0:05:21\n",
      "\n",
      "Epoch 3 / 4\n",
      "Training...\n"
     ]
    },
    {
     "data": {
      "application/vnd.jupyter.widget-view+json": {
       "model_id": "",
       "version_major": 2,
       "version_minor": 0
      },
      "text/plain": [
       "Training:   0%|          | 0/27 [00:00<?, ?it/s]"
      ]
     },
     "metadata": {},
     "output_type": "display_data"
    },
    {
     "name": "stdout",
     "output_type": "stream",
     "text": [
      "Batch Loss: 1.1107, Time: 0:00:37\n",
      "Average training loss: 1.11 | Epoch Time: 0:28:34\n",
      "\n",
      "Training Accuracy for this Epoch: 0.33 | Epoch Time: 0:28:34\n",
      "\n",
      "Validation...\n"
     ]
    },
    {
     "data": {
      "application/vnd.jupyter.widget-view+json": {
       "model_id": "",
       "version_major": 2,
       "version_minor": 0
      },
      "text/plain": [
       "Validation:   0%|          | 0/7 [00:00<?, ?it/s]"
      ]
     },
     "metadata": {},
     "output_type": "display_data"
    },
    {
     "name": "stdout",
     "output_type": "stream",
     "text": [
      "Batch Loss: 1.1012, Time: 0:00:30\n",
      "Average Validation Loss: 1.10 | Epoch Time: 0:04:56\n",
      "\n",
      "Validation Accuracy for this Epoch: 0.29 | Epoch Time: 0:04:56\n",
      "\n",
      "Epoch 4 / 4\n",
      "Training...\n"
     ]
    },
    {
     "data": {
      "application/vnd.jupyter.widget-view+json": {
       "model_id": "",
       "version_major": 2,
       "version_minor": 0
      },
      "text/plain": [
       "Training:   0%|          | 0/27 [00:00<?, ?it/s]"
      ]
     },
     "metadata": {},
     "output_type": "display_data"
    },
    {
     "name": "stdout",
     "output_type": "stream",
     "text": [
      "Batch Loss: 1.0940, Time: 0:00:39\n",
      "Average training loss: 1.10 | Epoch Time: 0:28:45\n",
      "\n",
      "Training Accuracy for this Epoch: 0.35 | Epoch Time: 0:28:45\n",
      "\n",
      "Validation...\n"
     ]
    },
    {
     "data": {
      "application/vnd.jupyter.widget-view+json": {
       "model_id": "",
       "version_major": 2,
       "version_minor": 0
      },
      "text/plain": [
       "Validation:   0%|          | 0/7 [00:00<?, ?it/s]"
      ]
     },
     "metadata": {},
     "output_type": "display_data"
    },
    {
     "name": "stdout",
     "output_type": "stream",
     "text": [
      "Batch Loss: 1.1004, Time: 0:00:32\n",
      "Average Validation Loss: 1.10 | Epoch Time: 0:05:23\n",
      "\n",
      "Validation Accuracy for this Epoch: 0.28 | Epoch Time: 0:05:23\n",
      "\n",
      "Collecting predictions and labels from the final epoch of the fold...\n"
     ]
    },
    {
     "data": {
      "application/vnd.jupyter.widget-view+json": {
       "model_id": "",
       "version_major": 2,
       "version_minor": 0
      },
      "text/plain": [
       "Final Epoch Validation:   0%|          | 0/7 [00:00<?, ?it/s]"
      ]
     },
     "metadata": {},
     "output_type": "display_data"
    },
    {
     "name": "stdout",
     "output_type": "stream",
     "text": [
      "\n",
      "Calculating confusion matrix for the final epoch of the fold...\n",
      "\n",
      "Confusion Matrix for Fold 2:\n",
      "[[37  0 34]\n",
      " [41  0 30]\n",
      " [48  0 23]]\n",
      "\n",
      "======== Fold 3 / 5 ========\n",
      "Optimizer and scheduler set up successfully.\n",
      "\n",
      "Epoch 1 / 4\n",
      "Training...\n"
     ]
    },
    {
     "name": "stderr",
     "output_type": "stream",
     "text": [
      "/Users/areeba/anaconda3/lib/python3.10/site-packages/transformers/optimization.py:306: FutureWarning: This implementation of AdamW is deprecated and will be removed in a future version. Use the PyTorch implementation torch.optim.AdamW instead, or set `no_deprecation_warning=True` to disable this warning\n",
      "  warnings.warn(\n"
     ]
    },
    {
     "data": {
      "application/vnd.jupyter.widget-view+json": {
       "model_id": "",
       "version_major": 2,
       "version_minor": 0
      },
      "text/plain": [
       "Training:   0%|          | 0/27 [00:00<?, ?it/s]"
      ]
     },
     "metadata": {},
     "output_type": "display_data"
    },
    {
     "name": "stdout",
     "output_type": "stream",
     "text": [
      "Batch Loss: 1.1042, Time: 0:00:36\n",
      "Average training loss: 1.11 | Epoch Time: 0:25:48\n",
      "\n",
      "Training Accuracy for this Epoch: 0.32 | Epoch Time: 0:25:48\n",
      "\n",
      "Validation...\n"
     ]
    },
    {
     "data": {
      "application/vnd.jupyter.widget-view+json": {
       "model_id": "",
       "version_major": 2,
       "version_minor": 0
      },
      "text/plain": [
       "Validation:   0%|          | 0/7 [00:00<?, ?it/s]"
      ]
     },
     "metadata": {},
     "output_type": "display_data"
    },
    {
     "name": "stdout",
     "output_type": "stream",
     "text": [
      "Batch Loss: 1.1512, Time: 0:02:06\n",
      "Average Validation Loss: 1.10 | Epoch Time: 0:06:19\n",
      "\n",
      "Validation Accuracy for this Epoch: 0.32 | Epoch Time: 0:06:19\n",
      "\n",
      "Epoch 2 / 4\n",
      "Training...\n"
     ]
    },
    {
     "data": {
      "application/vnd.jupyter.widget-view+json": {
       "model_id": "",
       "version_major": 2,
       "version_minor": 0
      },
      "text/plain": [
       "Training:   0%|          | 0/27 [00:00<?, ?it/s]"
      ]
     },
     "metadata": {},
     "output_type": "display_data"
    },
    {
     "name": "stdout",
     "output_type": "stream",
     "text": [
      "Batch Loss: 1.1237, Time: 0:00:35\n",
      "Average training loss: 1.12 | Epoch Time: 0:25:52\n",
      "\n",
      "Training Accuracy for this Epoch: 0.31 | Epoch Time: 0:25:52\n",
      "\n",
      "Validation...\n"
     ]
    },
    {
     "data": {
      "application/vnd.jupyter.widget-view+json": {
       "model_id": "",
       "version_major": 2,
       "version_minor": 0
      },
      "text/plain": [
       "Validation:   0%|          | 0/7 [00:00<?, ?it/s]"
      ]
     },
     "metadata": {},
     "output_type": "display_data"
    },
    {
     "name": "stdout",
     "output_type": "stream",
     "text": [
      "Batch Loss: 1.1087, Time: 0:00:27\n",
      "Average Validation Loss: 1.10 | Epoch Time: 0:04:39\n",
      "\n",
      "Validation Accuracy for this Epoch: 0.37 | Epoch Time: 0:04:39\n",
      "\n",
      "Epoch 3 / 4\n",
      "Training...\n"
     ]
    },
    {
     "data": {
      "application/vnd.jupyter.widget-view+json": {
       "model_id": "",
       "version_major": 2,
       "version_minor": 0
      },
      "text/plain": [
       "Training:   0%|          | 0/27 [00:00<?, ?it/s]"
      ]
     },
     "metadata": {},
     "output_type": "display_data"
    },
    {
     "name": "stdout",
     "output_type": "stream",
     "text": [
      "Batch Loss: 1.1149, Time: 0:00:38\n",
      "Average training loss: 1.10 | Epoch Time: 0:26:41\n",
      "\n",
      "Training Accuracy for this Epoch: 0.33 | Epoch Time: 0:26:41\n",
      "\n",
      "Validation...\n"
     ]
    },
    {
     "data": {
      "application/vnd.jupyter.widget-view+json": {
       "model_id": "",
       "version_major": 2,
       "version_minor": 0
      },
      "text/plain": [
       "Validation:   0%|          | 0/7 [00:00<?, ?it/s]"
      ]
     },
     "metadata": {},
     "output_type": "display_data"
    },
    {
     "name": "stdout",
     "output_type": "stream",
     "text": [
      "Batch Loss: 1.1298, Time: 0:00:29\n",
      "Average Validation Loss: 1.10 | Epoch Time: 0:04:59\n",
      "\n",
      "Validation Accuracy for this Epoch: 0.42 | Epoch Time: 0:04:59\n",
      "\n",
      "Epoch 4 / 4\n",
      "Training...\n"
     ]
    },
    {
     "data": {
      "application/vnd.jupyter.widget-view+json": {
       "model_id": "",
       "version_major": 2,
       "version_minor": 0
      },
      "text/plain": [
       "Training:   0%|          | 0/27 [00:00<?, ?it/s]"
      ]
     },
     "metadata": {},
     "output_type": "display_data"
    },
    {
     "name": "stdout",
     "output_type": "stream",
     "text": [
      "Batch Loss: 1.0835, Time: 0:00:38\n",
      "Average training loss: 1.10 | Epoch Time: 0:29:32\n",
      "\n",
      "Training Accuracy for this Epoch: 0.35 | Epoch Time: 0:29:32\n",
      "\n",
      "Validation...\n"
     ]
    },
    {
     "data": {
      "application/vnd.jupyter.widget-view+json": {
       "model_id": "",
       "version_major": 2,
       "version_minor": 0
      },
      "text/plain": [
       "Validation:   0%|          | 0/7 [00:00<?, ?it/s]"
      ]
     },
     "metadata": {},
     "output_type": "display_data"
    },
    {
     "name": "stdout",
     "output_type": "stream",
     "text": [
      "Batch Loss: 1.1360, Time: 0:00:30\n",
      "Average Validation Loss: 1.10 | Epoch Time: 0:05:04\n",
      "\n",
      "Validation Accuracy for this Epoch: 0.46 | Epoch Time: 0:05:04\n",
      "\n",
      "Collecting predictions and labels from the final epoch of the fold...\n"
     ]
    },
    {
     "data": {
      "application/vnd.jupyter.widget-view+json": {
       "model_id": "",
       "version_major": 2,
       "version_minor": 0
      },
      "text/plain": [
       "Final Epoch Validation:   0%|          | 0/7 [00:00<?, ?it/s]"
      ]
     },
     "metadata": {},
     "output_type": "display_data"
    },
    {
     "name": "stdout",
     "output_type": "stream",
     "text": [
      "\n",
      "Calculating confusion matrix for the final epoch of the fold...\n",
      "\n",
      "Confusion Matrix for Fold 3:\n",
      "[[48 18  5]\n",
      " [14 53  4]\n",
      " [27 42  2]]\n",
      "\n",
      "======== Fold 4 / 5 ========\n",
      "Optimizer and scheduler set up successfully.\n",
      "\n",
      "Epoch 1 / 4\n",
      "Training...\n"
     ]
    },
    {
     "name": "stderr",
     "output_type": "stream",
     "text": [
      "/Users/areeba/anaconda3/lib/python3.10/site-packages/transformers/optimization.py:306: FutureWarning: This implementation of AdamW is deprecated and will be removed in a future version. Use the PyTorch implementation torch.optim.AdamW instead, or set `no_deprecation_warning=True` to disable this warning\n",
      "  warnings.warn(\n"
     ]
    },
    {
     "data": {
      "application/vnd.jupyter.widget-view+json": {
       "model_id": "",
       "version_major": 2,
       "version_minor": 0
      },
      "text/plain": [
       "Training:   0%|          | 0/27 [00:00<?, ?it/s]"
      ]
     },
     "metadata": {},
     "output_type": "display_data"
    },
    {
     "name": "stdout",
     "output_type": "stream",
     "text": [
      "Batch Loss: 1.1399, Time: 0:00:40\n",
      "Average training loss: 1.10 | Epoch Time: 0:30:15\n",
      "\n",
      "Training Accuracy for this Epoch: 0.34 | Epoch Time: 0:30:15\n",
      "\n",
      "Validation...\n"
     ]
    },
    {
     "data": {
      "application/vnd.jupyter.widget-view+json": {
       "model_id": "",
       "version_major": 2,
       "version_minor": 0
      },
      "text/plain": [
       "Validation:   0%|          | 0/7 [00:00<?, ?it/s]"
      ]
     },
     "metadata": {},
     "output_type": "display_data"
    },
    {
     "name": "stdout",
     "output_type": "stream",
     "text": [
      "Batch Loss: 1.1176, Time: 0:00:30\n",
      "Average Validation Loss: 1.10 | Epoch Time: 0:05:09\n",
      "\n",
      "Validation Accuracy for this Epoch: 0.37 | Epoch Time: 0:05:09\n",
      "\n",
      "Epoch 2 / 4\n",
      "Training...\n"
     ]
    },
    {
     "data": {
      "application/vnd.jupyter.widget-view+json": {
       "model_id": "",
       "version_major": 2,
       "version_minor": 0
      },
      "text/plain": [
       "Training:   0%|          | 0/27 [00:00<?, ?it/s]"
      ]
     },
     "metadata": {},
     "output_type": "display_data"
    },
    {
     "name": "stdout",
     "output_type": "stream",
     "text": [
      "Batch Loss: 1.0875, Time: 0:00:45\n",
      "Average training loss: 1.10 | Epoch Time: 0:30:25\n",
      "\n",
      "Training Accuracy for this Epoch: 0.33 | Epoch Time: 0:30:25\n",
      "\n",
      "Validation...\n"
     ]
    },
    {
     "data": {
      "application/vnd.jupyter.widget-view+json": {
       "model_id": "",
       "version_major": 2,
       "version_minor": 0
      },
      "text/plain": [
       "Validation:   0%|          | 0/7 [00:00<?, ?it/s]"
      ]
     },
     "metadata": {},
     "output_type": "display_data"
    },
    {
     "name": "stdout",
     "output_type": "stream",
     "text": [
      "Batch Loss: 1.1760, Time: 0:00:34\n",
      "Average Validation Loss: 1.10 | Epoch Time: 0:05:52\n",
      "\n",
      "Validation Accuracy for this Epoch: 0.42 | Epoch Time: 0:05:52\n",
      "\n",
      "Epoch 3 / 4\n",
      "Training...\n"
     ]
    },
    {
     "data": {
      "application/vnd.jupyter.widget-view+json": {
       "model_id": "",
       "version_major": 2,
       "version_minor": 0
      },
      "text/plain": [
       "Training:   0%|          | 0/27 [00:00<?, ?it/s]"
      ]
     },
     "metadata": {},
     "output_type": "display_data"
    },
    {
     "name": "stdout",
     "output_type": "stream",
     "text": [
      "Batch Loss: 1.1060, Time: 0:00:42\n",
      "Average training loss: 1.10 | Epoch Time: 0:28:54\n",
      "\n",
      "Training Accuracy for this Epoch: 0.35 | Epoch Time: 0:28:54\n",
      "\n",
      "Validation...\n"
     ]
    },
    {
     "data": {
      "application/vnd.jupyter.widget-view+json": {
       "model_id": "",
       "version_major": 2,
       "version_minor": 0
      },
      "text/plain": [
       "Validation:   0%|          | 0/7 [00:00<?, ?it/s]"
      ]
     },
     "metadata": {},
     "output_type": "display_data"
    },
    {
     "name": "stdout",
     "output_type": "stream",
     "text": [
      "Batch Loss: 1.1284, Time: 0:00:33\n",
      "Average Validation Loss: 1.10 | Epoch Time: 0:05:40\n",
      "\n",
      "Validation Accuracy for this Epoch: 0.43 | Epoch Time: 0:05:40\n",
      "\n",
      "Epoch 4 / 4\n",
      "Training...\n"
     ]
    },
    {
     "data": {
      "application/vnd.jupyter.widget-view+json": {
       "model_id": "",
       "version_major": 2,
       "version_minor": 0
      },
      "text/plain": [
       "Training:   0%|          | 0/27 [00:00<?, ?it/s]"
      ]
     },
     "metadata": {},
     "output_type": "display_data"
    },
    {
     "name": "stdout",
     "output_type": "stream",
     "text": [
      "Batch Loss: 1.0962, Time: 0:00:40\n",
      "Average training loss: 1.10 | Epoch Time: 0:31:16\n",
      "\n",
      "Training Accuracy for this Epoch: 0.35 | Epoch Time: 0:31:16\n",
      "\n",
      "Validation...\n"
     ]
    },
    {
     "data": {
      "application/vnd.jupyter.widget-view+json": {
       "model_id": "",
       "version_major": 2,
       "version_minor": 0
      },
      "text/plain": [
       "Validation:   0%|          | 0/7 [00:00<?, ?it/s]"
      ]
     },
     "metadata": {},
     "output_type": "display_data"
    },
    {
     "name": "stdout",
     "output_type": "stream",
     "text": [
      "Batch Loss: 1.1289, Time: 0:00:33\n",
      "Average Validation Loss: 1.10 | Epoch Time: 0:05:22\n",
      "\n",
      "Validation Accuracy for this Epoch: 0.39 | Epoch Time: 0:05:22\n",
      "\n",
      "Collecting predictions and labels from the final epoch of the fold...\n"
     ]
    },
    {
     "data": {
      "application/vnd.jupyter.widget-view+json": {
       "model_id": "",
       "version_major": 2,
       "version_minor": 0
      },
      "text/plain": [
       "Final Epoch Validation:   0%|          | 0/7 [00:00<?, ?it/s]"
      ]
     },
     "metadata": {},
     "output_type": "display_data"
    },
    {
     "name": "stdout",
     "output_type": "stream",
     "text": [
      "\n",
      "Calculating confusion matrix for the final epoch of the fold...\n",
      "\n",
      "Confusion Matrix for Fold 4:\n",
      "[[45  8 18]\n",
      " [26 32 13]\n",
      " [37 24 10]]\n",
      "\n",
      "======== Fold 5 / 5 ========\n",
      "Optimizer and scheduler set up successfully.\n",
      "\n",
      "Epoch 1 / 4\n",
      "Training...\n"
     ]
    },
    {
     "name": "stderr",
     "output_type": "stream",
     "text": [
      "/Users/areeba/anaconda3/lib/python3.10/site-packages/transformers/optimization.py:306: FutureWarning: This implementation of AdamW is deprecated and will be removed in a future version. Use the PyTorch implementation torch.optim.AdamW instead, or set `no_deprecation_warning=True` to disable this warning\n",
      "  warnings.warn(\n"
     ]
    },
    {
     "data": {
      "application/vnd.jupyter.widget-view+json": {
       "model_id": "",
       "version_major": 2,
       "version_minor": 0
      },
      "text/plain": [
       "Training:   0%|          | 0/27 [00:00<?, ?it/s]"
      ]
     },
     "metadata": {},
     "output_type": "display_data"
    },
    {
     "name": "stdout",
     "output_type": "stream",
     "text": [
      "Batch Loss: 1.1079, Time: 0:00:38\n",
      "Average training loss: 1.10 | Epoch Time: 0:29:03\n",
      "\n",
      "Training Accuracy for this Epoch: 0.34 | Epoch Time: 0:29:03\n",
      "\n",
      "Validation...\n"
     ]
    },
    {
     "data": {
      "application/vnd.jupyter.widget-view+json": {
       "model_id": "",
       "version_major": 2,
       "version_minor": 0
      },
      "text/plain": [
       "Validation:   0%|          | 0/7 [00:00<?, ?it/s]"
      ]
     },
     "metadata": {},
     "output_type": "display_data"
    },
    {
     "name": "stdout",
     "output_type": "stream",
     "text": [
      "Batch Loss: 1.1510, Time: 0:00:29\n",
      "Average Validation Loss: 1.10 | Epoch Time: 0:05:01\n",
      "\n",
      "Validation Accuracy for this Epoch: 0.41 | Epoch Time: 0:05:01\n",
      "\n",
      "Epoch 2 / 4\n",
      "Training...\n"
     ]
    },
    {
     "data": {
      "application/vnd.jupyter.widget-view+json": {
       "model_id": "",
       "version_major": 2,
       "version_minor": 0
      },
      "text/plain": [
       "Training:   0%|          | 0/27 [00:00<?, ?it/s]"
      ]
     },
     "metadata": {},
     "output_type": "display_data"
    },
    {
     "name": "stdout",
     "output_type": "stream",
     "text": [
      "Batch Loss: 1.0954, Time: 0:00:36\n",
      "Average training loss: 1.11 | Epoch Time: 0:26:34\n",
      "\n",
      "Training Accuracy for this Epoch: 0.33 | Epoch Time: 0:26:34\n",
      "\n",
      "Validation...\n"
     ]
    },
    {
     "data": {
      "application/vnd.jupyter.widget-view+json": {
       "model_id": "",
       "version_major": 2,
       "version_minor": 0
      },
      "text/plain": [
       "Validation:   0%|          | 0/7 [00:00<?, ?it/s]"
      ]
     },
     "metadata": {},
     "output_type": "display_data"
    },
    {
     "name": "stdout",
     "output_type": "stream",
     "text": [
      "Batch Loss: 1.1206, Time: 0:00:28\n",
      "Average Validation Loss: 1.09 | Epoch Time: 0:04:51\n",
      "\n",
      "Validation Accuracy for this Epoch: 0.45 | Epoch Time: 0:04:51\n",
      "\n",
      "Epoch 3 / 4\n",
      "Training...\n"
     ]
    },
    {
     "data": {
      "application/vnd.jupyter.widget-view+json": {
       "model_id": "",
       "version_major": 2,
       "version_minor": 0
      },
      "text/plain": [
       "Training:   0%|          | 0/27 [00:00<?, ?it/s]"
      ]
     },
     "metadata": {},
     "output_type": "display_data"
    },
    {
     "name": "stdout",
     "output_type": "stream",
     "text": [
      "Batch Loss: 1.0729, Time: 0:00:37\n",
      "Average training loss: 1.09 | Epoch Time: 0:26:06\n",
      "\n",
      "Training Accuracy for this Epoch: 0.37 | Epoch Time: 0:26:06\n",
      "\n",
      "Validation...\n"
     ]
    },
    {
     "data": {
      "application/vnd.jupyter.widget-view+json": {
       "model_id": "",
       "version_major": 2,
       "version_minor": 0
      },
      "text/plain": [
       "Validation:   0%|          | 0/7 [00:00<?, ?it/s]"
      ]
     },
     "metadata": {},
     "output_type": "display_data"
    },
    {
     "name": "stdout",
     "output_type": "stream",
     "text": [
      "Batch Loss: 1.1274, Time: 0:00:28\n",
      "Average Validation Loss: 1.09 | Epoch Time: 0:04:49\n",
      "\n",
      "Validation Accuracy for this Epoch: 0.39 | Epoch Time: 0:04:49\n",
      "\n",
      "Epoch 4 / 4\n",
      "Training...\n"
     ]
    },
    {
     "data": {
      "application/vnd.jupyter.widget-view+json": {
       "model_id": "",
       "version_major": 2,
       "version_minor": 0
      },
      "text/plain": [
       "Training:   0%|          | 0/27 [00:00<?, ?it/s]"
      ]
     },
     "metadata": {},
     "output_type": "display_data"
    },
    {
     "name": "stdout",
     "output_type": "stream",
     "text": [
      "Batch Loss: 1.1522, Time: 0:00:37\n",
      "Average training loss: 1.10 | Epoch Time: 0:26:41\n",
      "\n",
      "Training Accuracy for this Epoch: 0.32 | Epoch Time: 0:26:41\n",
      "\n",
      "Validation...\n"
     ]
    },
    {
     "data": {
      "application/vnd.jupyter.widget-view+json": {
       "model_id": "",
       "version_major": 2,
       "version_minor": 0
      },
      "text/plain": [
       "Validation:   0%|          | 0/7 [00:00<?, ?it/s]"
      ]
     },
     "metadata": {},
     "output_type": "display_data"
    },
    {
     "name": "stdout",
     "output_type": "stream",
     "text": [
      "Batch Loss: 1.1263, Time: 0:00:28\n",
      "Average Validation Loss: 1.09 | Epoch Time: 0:04:49\n",
      "\n",
      "Validation Accuracy for this Epoch: 0.42 | Epoch Time: 0:04:49\n",
      "\n",
      "Collecting predictions and labels from the final epoch of the fold...\n"
     ]
    },
    {
     "data": {
      "application/vnd.jupyter.widget-view+json": {
       "model_id": "",
       "version_major": 2,
       "version_minor": 0
      },
      "text/plain": [
       "Final Epoch Validation:   0%|          | 0/7 [00:00<?, ?it/s]"
      ]
     },
     "metadata": {},
     "output_type": "display_data"
    },
    {
     "name": "stdout",
     "output_type": "stream",
     "text": [
      "\n",
      "Calculating confusion matrix for the final epoch of the fold...\n",
      "\n",
      "Confusion Matrix for Fold 5:\n",
      "[[61  4  6]\n",
      " [36 28  7]\n",
      " [47 19  5]]\n",
      "\n",
      "K-Fold Cross-validation complete!\n"
     ]
    }
   ],
   "source": [
    "# Seed for reproducibility\n",
    "seed_val = 42\n",
    "random.seed(seed_val)\n",
    "np.random.seed(seed_val)\n",
    "torch.manual_seed(seed_val)\n",
    "torch.cuda.manual_seed_all(seed_val)\n",
    "\n",
    "# Freeze all layers of the model except the classification layer\n",
    "for param in model.bert.parameters():\n",
    "    param.requires_grad = False\n",
    "\n",
    "# Initializing lists to store metrics for all folds\n",
    "all_folds_train_losses = []\n",
    "all_folds_val_losses = []\n",
    "all_folds_train_accuracies = []\n",
    "all_folds_val_accuracies = []\n",
    "\n",
    "# Prepare for K-Fold Cross-Validation\n",
    "n_splits = 5\n",
    "batch_size = 32\n",
    "skf = StratifiedKFold(n_splits=n_splits, shuffle=True, random_state=seed_val)\n",
    "loss_function = CrossEntropyLoss()\n",
    "\n",
    "# Before starting the K-Fold Cross-Validation\n",
    "all_true_labels = []\n",
    "all_predictions = []\n",
    "\n",
    "# K-Fold Cross-Validation\n",
    "for fold, (train_idx, val_idx) in enumerate(skf.split(input_ids, labels.numpy())):\n",
    "    print(f'\\n======== Fold {fold + 1} / {n_splits} ========')\n",
    "\n",
    "    # Lists to store metrics for the current fold\n",
    "    fold_train_losses = []\n",
    "    fold_val_losses = []\n",
    "    fold_train_accuracies = []\n",
    "    fold_val_accuracies = []\n",
    "    fold_predictions = []\n",
    "    fold_true_labels = []\n",
    "    \n",
    "    # Create training and validation subsets for the current fold\n",
    "    train_subset = TensorDataset(input_ids[train_idx], attention_masks[train_idx], labels[train_idx])\n",
    "    val_subset = TensorDataset(input_ids[val_idx], attention_masks[val_idx], labels[val_idx])\n",
    "\n",
    "    # Create dataloaders for training and validation subsets\n",
    "    train_dataloader = DataLoader(train_subset, sampler=RandomSampler(train_subset), batch_size=batch_size)\n",
    "    validation_dataloader = DataLoader(val_subset, sampler=SequentialSampler(val_subset), batch_size=batch_size)\n",
    "\n",
    "    # AdamW is a class from the huggingface library\n",
    "    optimizer = AdamW(model.parameters(),\n",
    "                      lr=5e-5,  # Learning rate\n",
    "                      eps=1e-8  # Epsilon to prevent division by zero in optimizer updates\n",
    "    )\n",
    "\n",
    "    # Number of training epochs\n",
    "    epochs = 4\n",
    "\n",
    "    # Total number of training steps is the number of batches per epoch times the number of epochs\n",
    "    total_steps = len(train_dataloader) * epochs\n",
    "\n",
    "    # Create the learning rate scheduler to decrease the learning rate as training progresses\n",
    "    scheduler = get_linear_schedule_with_warmup(optimizer, \n",
    "                                            num_warmup_steps=0,  # No warmup steps\n",
    "                                            num_training_steps=total_steps)\n",
    "\n",
    "    print(\"Optimizer and scheduler set up successfully.\")\n",
    "        \n",
    "    # Training Loop\n",
    "    for epoch_i in range(0, epochs):\n",
    "        print(f'\\nEpoch {epoch_i + 1} / {epochs}')\n",
    "        print('Training...')\n",
    "        start_time_epoch = time.time()\n",
    "\n",
    "        total_train_loss = 0\n",
    "        total_train_accuracy = 0\n",
    "        model.train()\n",
    "\n",
    "        for batch in tqdm(train_dataloader, desc='Training', leave=False):\n",
    "            start_time_batch = time.time()\n",
    "\n",
    "            b_input_ids = batch[0].to(device)\n",
    "            b_input_mask = batch[1].to(device)\n",
    "            b_labels = batch[2].to(device)\n",
    "\n",
    "            model.zero_grad()        \n",
    "            outputs = model(b_input_ids, token_type_ids=None, attention_mask=b_input_mask, labels=b_labels)\n",
    "            loss = outputs.loss\n",
    "            total_train_loss += loss.item()\n",
    "            loss.backward()\n",
    "            torch.nn.utils.clip_grad_norm_(model.parameters(), 1.0)\n",
    "            optimizer.step()\n",
    "            scheduler.step()\n",
    "\n",
    "            # Calculate batch accuracy\n",
    "            logits = outputs.logits\n",
    "            preds = torch.argmax(logits, dim=1).flatten()\n",
    "            batch_accuracy = (preds == b_labels).cpu().numpy().mean()\n",
    "            total_train_accuracy += batch_accuracy\n",
    "\n",
    "            elapsed_time_batch = str(timedelta(seconds=int(round(time.time() - start_time_batch))))\n",
    "            print(f\"Batch Loss: {loss.item():.4f}, Time: {elapsed_time_batch}\", end='\\r')\n",
    "\n",
    "        elapsed_time_epoch = str(timedelta(seconds=int(round(time.time() - start_time_epoch))))\n",
    "        avg_train_loss = total_train_loss / len(train_dataloader)\n",
    "        fold_train_losses.append(avg_train_loss)\n",
    "        train_accuracy_for_this_epoch = total_train_accuracy / len(train_dataloader)\n",
    "        fold_train_accuracies.append(train_accuracy_for_this_epoch)\n",
    "        print(f\"\\nAverage training loss: {avg_train_loss:.2f} | Epoch Time: {elapsed_time_epoch}\")\n",
    "        print(f\"\\nTraining Accuracy for this Epoch: {train_accuracy_for_this_epoch:.2f} | Epoch Time: {elapsed_time_epoch}\")\n",
    "\n",
    "        # Validation Loop\n",
    "        print('\\nValidation...')\n",
    "        start_time_epoch = time.time()\n",
    "        model.eval()\n",
    "        total_eval_loss = 0\n",
    "        total_eval_accuracy = 0\n",
    "        nb_eval_steps = 0  # Count the number of validation steps (batches)\n",
    "\n",
    "        for batch in tqdm(validation_dataloader, desc='Validation', leave=False):\n",
    "            start_time_batch = time.time()\n",
    "\n",
    "            b_input_ids = batch[0].to(device)\n",
    "            b_input_mask = batch[1].to(device)\n",
    "            b_labels = batch[2].to(device)\n",
    "\n",
    "            with torch.no_grad():\n",
    "                outputs = model(b_input_ids, token_type_ids=None, attention_mask=b_input_mask)\n",
    "                logits = outputs.logits\n",
    "                # Compute validation loss\n",
    "                loss = loss_function(logits, b_labels)\n",
    "                total_eval_loss += loss.item()\n",
    "\n",
    "            logits = logits.detach().cpu().numpy()\n",
    "            label_ids = b_labels.to('cpu').numpy()\n",
    "            # label_ids = b_labels.to('cuda').numpy()\n",
    "            \n",
    "            # Calculate and accumulate batch accuracy\n",
    "            tmp_eval_accuracy = accuracy_score(label_ids, np.argmax(logits, axis=1).flatten())\n",
    "            total_eval_accuracy += tmp_eval_accuracy\n",
    "            nb_eval_steps += 1  # Increment the count of validation steps\n",
    "\n",
    "            elapsed_time_batch = str(timedelta(seconds=int(round(time.time() - start_time_batch))))\n",
    "            print(f\"Batch Loss: {loss.item():.4f}, Time: {elapsed_time_batch}\", end='\\r')\n",
    "\n",
    "        elapsed_time_epoch = str(timedelta(seconds=int(round(time.time() - start_time_epoch))))\n",
    "        # Calculate the average validation loss and accuracy for the epoch\n",
    "        avg_val_loss = total_eval_loss / nb_eval_steps\n",
    "        avg_val_accuracy = total_eval_accuracy / nb_eval_steps\n",
    "        fold_val_losses.append(avg_val_loss)\n",
    "        fold_val_accuracies.append(avg_val_accuracy)\n",
    "\n",
    "        print(f\"\\nAverage Validation Loss: {avg_val_loss:.2f} | Epoch Time: {str(timedelta(seconds=int(round(time.time() - start_time_epoch))))}\")\n",
    "        print(f\"\\nValidation Accuracy for this Epoch: {avg_val_accuracy:.2f} | Epoch Time: {str(timedelta(seconds=int(round(time.time() - start_time_epoch))))}\")\n",
    "        \n",
    "    # Accumulate predictions and true labels only after the final epoch of the fold\n",
    "    if epoch_i == epochs - 1:\n",
    "        print('\\nCollecting predictions and labels from the final epoch of the fold...')\n",
    "        for batch in tqdm(validation_dataloader, desc='Final Epoch Validation', leave=False):\n",
    "            b_input_ids = batch[0].to(device)\n",
    "            b_input_mask = batch[1].to(device)\n",
    "            b_labels = batch[2].to(device)\n",
    "\n",
    "            with torch.no_grad():\n",
    "                outputs = model(b_input_ids, token_type_ids=None, attention_mask=b_input_mask)\n",
    "                logits = outputs.logits\n",
    "\n",
    "            logits = logits.detach().cpu().numpy()\n",
    "            label_ids = b_labels.to('cpu').numpy()\n",
    "\n",
    "            batch_predictions = np.argmax(logits, axis=1)\n",
    "            all_predictions.extend(batch_predictions)\n",
    "            all_true_labels.extend(label_ids)  \n",
    "            \n",
    "    # After the last epoch of the fold, calculate and print the confusion matrix\n",
    "    if epoch_i == epochs - 1:\n",
    "        print('\\nCalculating confusion matrix for the final epoch of the fold...')\n",
    "\n",
    "        # Ensure model is in evaluation mode\n",
    "        model.eval()\n",
    "\n",
    "        # Iterate over the validation data\n",
    "        for batch in validation_dataloader:\n",
    "            b_input_ids = batch[0].to(device)\n",
    "            b_input_mask = batch[1].to(device)\n",
    "            b_labels = batch[2].to(device)\n",
    "\n",
    "            with torch.no_grad():\n",
    "                outputs = model(b_input_ids, token_type_ids=None, attention_mask=b_input_mask)\n",
    "                logits = outputs.logits\n",
    "\n",
    "            logits = logits.detach().cpu().numpy()\n",
    "            label_ids = b_labels.to('cpu').numpy()\n",
    "\n",
    "            batch_predictions = np.argmax(logits, axis=1)\n",
    "            fold_predictions.extend(batch_predictions)\n",
    "            fold_true_labels.extend(label_ids)\n",
    "\n",
    "        # Calculate the confusion matrix for this fold\n",
    "        cm = confusion_matrix(fold_true_labels, fold_predictions)\n",
    "        print(f\"\\nConfusion Matrix for Fold {fold + 1}:\")\n",
    "        print(cm)       \n",
    "        \n",
    "        # Append fold metrics to overall lists\n",
    "        all_folds_train_losses.append(fold_train_losses)\n",
    "        all_folds_val_losses.append(fold_val_losses)\n",
    "        all_folds_train_accuracies.append(fold_train_accuracies)\n",
    "        all_folds_val_accuracies.append(fold_val_accuracies)\n",
    "        \n",
    "\n",
    "print(\"\\nK-Fold Cross-validation complete!\")"
   ]
  },
  {
   "cell_type": "markdown",
   "id": "80f1e23b",
   "metadata": {},
   "source": [
    "## Reproducibility Setup:\n",
    "- Provides a seed (`seed_val`) to be used across runs to ensure reproducibility in randomness, created by both `random`, NumPy (`np`), and PyTorch (`torch`).\n",
    "\n",
    "## Model Configuration\n",
    "**Freezing the layers**: Freeze all BERT layers (`requires_grad=False`) but keep the classification layer trainable so as to fine tune the model on this classification problem.\n",
    "\n",
    "## Key Variables and Constants\n",
    "Batch Size: A constant defining how many samples a batch is supposed to contain for both training and validation.\n",
    "- **Loss Function**: Uses `CrossEntropyLoss` for multi-class classification.\n",
    "\n",
    "### Setup K-Fold Cross-Validation:\n",
    "- Stratified K-Fold Cross-Validation (`n_splits=5`) for equal class distribution in each fold. \n",
    "- `skf`: The object for generating StratifiedKFold training and validation splits.\n",
    "\n",
    "### Optimizer and Scheduler:\n",
    "- Sets the **AdamW optimizer** with the learning rate along with epsilon. \n",
    "- **Scheduler**: A linear learning rate scheduler based on computed `total_steps` over training epochs.\n",
    "\n",
    "Training and Validation Loops:\n",
    "- **Training Loop**: \n",
    "- It puts the model into the training mode using `model.train()`, and then, with batch processing, it calculates the losses and accuracies.\n",
    "- Prints the Batch Loss, Average Training Loss, Accuracy, and time for every epoch.\n",
    "\n",
    "- **Validation Loop**:\n",
    "- Puts the model into evaluation mode by calling `model.eval()` to compute validation losses and accuracies.\n",
    "- Reports batch and average validation metrics for each fold.\n",
    "\n",
    "### Cross-Validation Process:\n",
    "- Iterates over folds, creating train-validation splits using `skf`. \n",
    "- Reinitializes the optimizer and scheduler for each fold. \n",
    "- Collects predictions and true labels for confusion matrix generation. \n",
    "- Appends fold-specific metrics (losses and accuracies) to overall lists for post-evaluation.\n",
    "\n",
    "### Confusion Matrix:\n",
    "- Calculates and prints out confusion matrices at the end of every fold to assess performance.\n",
    "\n",
    "### Completion:\n",
    "- Provides a final print statement that K-Fold Cross-Validation has finished, and all predictions and true labels have been generated along with their confusion matrices."
   ]
  },
  {
   "cell_type": "code",
   "execution_count": 11,
   "id": "7a006ef2",
   "metadata": {},
   "outputs": [
    {
     "name": "stdout",
     "output_type": "stream",
     "text": [
      "Model and metrics saved to KHANAreeba_aifinal_model.pth\n"
     ]
    }
   ],
   "source": [
    "# Specifying a file path for saving the model and metrics\n",
    "model_metrics_save_path = \"KHANAreeba_aifinal_model.pth\"\n",
    "\n",
    "# Saving the model's state dictionary and training/validation metrics\n",
    "torch.save({\n",
    "    'model_state_dict': model.state_dict(),\n",
    "    'all_folds_train_losses': all_folds_train_losses,\n",
    "    'all_folds_val_losses': all_folds_val_losses,\n",
    "    'all_folds_train_accuracies': all_folds_train_accuracies,\n",
    "    'all_folds_val_accuracies': all_folds_val_accuracies,\n",
    "    'all_predictions': all_predictions,\n",
    "    'all_true_labels': all_true_labels,\n",
    "}, model_metrics_save_path)\n",
    "\n",
    "print(f\"Model and metrics saved to {model_metrics_save_path}\")\n"
   ]
  },
  {
   "cell_type": "markdown",
   "id": "f1bad0e4",
   "metadata": {},
   "source": [
    "Defines a variable that contains the file path to save the model and its metrics: `model_metrics_save_path`\n",
    "Saves the model's state dictionary and critical training/validation metrics using `torch.save()`.\n",
    "`model.state_dict()`: This holds all the learnable parameters of the model, hence a snapshot of its state after training.\n",
    "`all_folds_train_losses`, `all_folds_val_losses`: Lists to capture the train and validation losses of each fold for performance analysis across iterations.\n",
    "`all_folds_train_accuracies`, `all_folds_val_accuracies`: Lists to store the training and validation accuracies for each fold to track the model performance.\n",
    "Clearly returns a confirmation message, in case the model and its metrics are successfully saved at the file path given for transparency and reproducibility."
   ]
  },
  {
   "cell_type": "markdown",
   "id": "4f1a9525",
   "metadata": {},
   "source": [
    "## Evaluation Metrics"
   ]
  },
  {
   "cell_type": "markdown",
   "id": "8690cab5",
   "metadata": {},
   "source": [
    "## Accuracy"
   ]
  },
  {
   "cell_type": "code",
   "execution_count": 12,
   "id": "b56ef46e",
   "metadata": {},
   "outputs": [
    {
     "name": "stdout",
     "output_type": "stream",
     "text": [
      "Average Accuracy across all folds: 0.3812206572769953\n"
     ]
    }
   ],
   "source": [
    "accuracy = accuracy_score(all_true_labels, all_predictions)\n",
    "print(\"Average Accuracy across all folds:\", accuracy)\n",
    "with open('accuracy1.txt', 'w') as f:\n",
    "    f.write(str(accuracy))"
   ]
  },
  {
   "cell_type": "markdown",
   "id": "f86b5e61",
   "metadata": {},
   "source": [
    "## Training Metrics: Precision, Recall and F1-Score"
   ]
  },
  {
   "cell_type": "code",
   "execution_count": 28,
   "id": "4d41a250",
   "metadata": {},
   "outputs": [
    {
     "name": "stdout",
     "output_type": "stream",
     "text": [
      "╒═══════════════════╤═════════════╤══════════╤════════════╤═══════════╕\n",
      "│ Label             │ Precision   │ Recall   │   F1-Score │   Support │\n",
      "╞═══════════════════╪═════════════╪══════════╪════════════╪═══════════╡\n",
      "│ Astronomy         │ 0.39        │ 0.6      │   0.48     │       355 │\n",
      "├───────────────────┼─────────────┼──────────┼────────────┼───────────┤\n",
      "│ Political Science │ 0.46        │ 0.4      │   0.43     │       355 │\n",
      "├───────────────────┼─────────────┼──────────┼────────────┼───────────┤\n",
      "│ Psychology        │ 0.23        │ 0.14     │   0.17     │       355 │\n",
      "├───────────────────┼─────────────┼──────────┼────────────┼───────────┤\n",
      "│ Overall Accuracy  │             │          │   0.381221 │           │\n",
      "╘═══════════════════╧═════════════╧══════════╧════════════╧═══════════╛\n"
     ]
    }
   ],
   "source": [
    "import sklearn.metrics as metrics\n",
    "from tabulate import tabulate\n",
    "\n",
    "# Generate the classification report as a dictionary\n",
    "report_dict = metrics.classification_report(\n",
    "    all_true_labels, \n",
    "    all_predictions, \n",
    "    target_names=['Astronomy', 'Political Science', 'Psychology'], \n",
    "    output_dict=True\n",
    ")\n",
    "\n",
    "# Convert the report dictionary into a tabular format\n",
    "table_data = []\n",
    "for label, values in report_dict.items():\n",
    "    if label in ['Astronomy', 'Political Science', 'Psychology', 'accuracy']:\n",
    "        if label == 'accuracy':\n",
    "            table_data.append(['Overall Accuracy', '', '', values])\n",
    "        else:\n",
    "            table_data.append([\n",
    "                label, \n",
    "                round(values['precision'], 2), \n",
    "                round(values['recall'], 2), \n",
    "                round(values['f1-score'], 2)\n",
    "            ])\n",
    "            \n",
    "# Add support (sample count) at the end if required\n",
    "for label, values in report_dict.items():\n",
    "    if label in ['Astronomy', 'Political Science', 'Psychology']:\n",
    "        support = int(values['support'])\n",
    "        for row in table_data:\n",
    "            if row[0] == label:\n",
    "                row.append(support)\n",
    "\n",
    "# Add header for the table\n",
    "headers = ['Label', 'Precision', 'Recall', 'F1-Score', 'Support']\n",
    "\n",
    "# Create the table\n",
    "pretty_table = tabulate(table_data, headers=headers, tablefmt='fancy_grid')\n",
    "\n",
    "# Print the table\n",
    "print(pretty_table)\n",
    "\n",
    "# Save the table to a text file\n",
    "with open('classification_report_1.txt', 'w') as f:\n",
    "    f.write(pretty_table)\n"
   ]
  },
  {
   "cell_type": "markdown",
   "id": "6fcdd6a4",
   "metadata": {},
   "source": [
    "## Plotting the ROC Curve"
   ]
  },
  {
   "cell_type": "code",
   "execution_count": 31,
   "id": "d74b0f76",
   "metadata": {},
   "outputs": [
    {
     "data": {
      "image/png": "[encoded data removed]",
      "text/plain": [
       "<Figure size 1000x800 with 1 Axes>"
      ]
     },
     "metadata": {},
     "output_type": "display_data"
    }
   ],
   "source": [
    "import numpy as np\n",
    "from sklearn.metrics import roc_curve, auc\n",
    "from sklearn.preprocessing import label_binarize\n",
    "import matplotlib.pyplot as plt\n",
    "\n",
    "# Assume the classes are ['Astronomy', 'Political Science', 'Psychology']\n",
    "classes = ['Astronomy', 'Political Science', 'Psychology']\n",
    "n_classes = len(classes)\n",
    "\n",
    "# Convert `all_true_labels` and `all_predictions` to one-hot encoding\n",
    "all_true_labels_one_hot = label_binarize(all_true_labels, classes=[0, 1, 2])  # Adjust the class indices as needed\n",
    "all_predictions_one_hot = label_binarize(all_predictions, classes=[0, 1, 2])\n",
    "\n",
    "# Compute ROC curve and ROC AUC for each class\n",
    "fpr = dict()\n",
    "tpr = dict()\n",
    "roc_auc = dict()\n",
    "\n",
    "for i in range(n_classes):\n",
    "    fpr[i], tpr[i], _ = roc_curve(all_true_labels_one_hot[:, i], all_predictions_one_hot[:, i])\n",
    "    roc_auc[i] = auc(fpr[i], tpr[i])\n",
    "\n",
    "# Compute micro-average ROC curve and AUC\n",
    "fpr[\"micro\"], tpr[\"micro\"], _ = roc_curve(all_true_labels_one_hot.ravel(), all_predictions_one_hot.ravel())\n",
    "roc_auc[\"micro\"] = auc(fpr[\"micro\"], tpr[\"micro\"])\n",
    "\n",
    "# Plot the ROC curve for each class\n",
    "plt.figure(figsize=(10, 8))\n",
    "\n",
    "for i in range(n_classes):\n",
    "    plt.plot(fpr[i], tpr[i], label=f'ROC curve for {classes[i]} (area = {roc_auc[i]:.2f})')\n",
    "\n",
    "# Plot the micro-average ROC curve\n",
    "plt.plot(fpr[\"micro\"], tpr[\"micro\"],\n",
    "         label=f'Micro-average ROC curve (area = {roc_auc[\"micro\"]:.2f})',\n",
    "         color='deeppink', linestyle=':', linewidth=4)\n",
    "\n",
    "# Plot a diagonal line for reference\n",
    "plt.plot([0, 1], [0, 1], 'k--', lw=2, label='Reference')\n",
    "\n",
    "# Add labels and legend\n",
    "plt.xlabel('False Positive Rate')\n",
    "plt.ylabel('True Positive Rate')\n",
    "plt.title('Multiclass ROC Curve')\n",
    "plt.legend(loc='lower right')\n",
    "plt.grid(alpha=0.5)\n",
    "plt.tight_layout()\n",
    "\n",
    "# Save the plot\n",
    "plt.savefig('multiclass_roc_curve.png')\n",
    "plt.show()\n"
   ]
  },
  {
   "cell_type": "markdown",
   "id": "573e9370",
   "metadata": {},
   "source": [
    "## The image shows a multiclass ROC (Receiver Operating Characteristic) curve comparing the performance of a classifier across three different categories: Astronomy, Political Science, and Psychology. The micro-average ROC curve is also plotted.\n",
    "\n",
    "=>x-axis: False Positive Rate (0.0 to 1.0)\n",
    "\n",
    "=>Y-axis: True Positive Rate (0.0 to 1.0)\n",
    "\n",
    "=>Reference line: Represents random classifier performance (0.5 AUC)\n",
    "\n",
    "=>Micro-average: Aggregate performance across all classes"
   ]
  },
  {
   "cell_type": "markdown",
   "id": "5178c00a",
   "metadata": {},
   "source": [
    "## Plotting the Loss and Accuracy Per Epoch"
   ]
  },
  {
   "cell_type": "code",
   "execution_count": 40,
   "id": "f7708b4e",
   "metadata": {},
   "outputs": [
    {
     "data": {
      "image/png": "[encoded data removed]",
      "text/plain": [
       "<Figure size 1200x600 with 1 Axes>"
      ]
     },
     "metadata": {},
     "output_type": "display_data"
    },
    {
     "data": {
      "image/png": "[encoded data removed]",
      "text/plain": [
       "<Figure size 1200x600 with 1 Axes>"
      ]
     },
     "metadata": {},
     "output_type": "display_data"
    }
   ],
   "source": [
    "import matplotlib.pyplot as plt\n",
    "import numpy as np\n",
    "\n",
    "# Example Data (Replace these with the actual metrics from the code)\n",
    "# These are 5 folds of train/validation losses and accuracies for 4 epochs each\n",
    "\n",
    "\n",
    "# Calculate averages across folds\n",
    "avg_train_losses = np.mean(all_folds_train_losses, axis=0)\n",
    "avg_val_losses = np.mean(all_folds_val_losses, axis=0)\n",
    "avg_train_accuracies = np.mean(all_folds_train_accuracies, axis=0)\n",
    "avg_val_accuracies = np.mean(all_folds_val_accuracies, axis=0)\n",
    "\n",
    "# Plot Losses\n",
    "plt.figure(figsize=(12, 6))\n",
    "epochs = range(1, len(avg_train_losses) + 1)\n",
    "plt.plot(epochs, avg_train_losses, label='Train Loss', marker='o')\n",
    "plt.plot(epochs, avg_val_losses, label='Validation Loss', marker='o')\n",
    "plt.title('Loss per Epoch')\n",
    "plt.xlabel('Epochs')\n",
    "plt.ylabel('Loss')\n",
    "plt.legend()\n",
    "plt.grid(True, alpha=0.3)\n",
    "plt.show()\n",
    "\n",
    "# Plot Accuracies\n",
    "plt.figure(figsize=(12, 6))\n",
    "plt.plot(epochs, avg_train_accuracies, label='Train Accuracy', marker='o')\n",
    "plt.plot(epochs, avg_val_accuracies, label='Validation Accuracy', marker='o')\n",
    "plt.title('Accuracy per Epoch')\n",
    "plt.xlabel('Epochs')\n",
    "plt.ylabel('Accuracy')\n",
    "plt.legend()\n",
    "plt.grid(True, alpha=0.3)\n",
    "plt.show()\n"
   ]
  },
  {
   "cell_type": "markdown",
   "id": "e19afe3f",
   "metadata": {},
   "source": [
    "**Loss per Epoch (Graph 1)**\n",
    "\n",
    "=> X-axis: Epochs (range: 1.0 to 4.0)\n",
    "\n",
    "=> Y-axis: Loss (range: 1.098 to 1.114)\n",
    "\n",
    "=> Legend: Train Loss (blue), Validation Loss (orange)\n",
    "\n",
    "=> Graph type: Line plot with markers\n",
    "\n",
    "**Accuracy per Epoch (Graph 2)**\n",
    "\n",
    "=> X-axis: Epochs (range: 1.0 to 4.0)\n",
    "\n",
    "=> Y-axis: Accuracy (range: 0.33 to 0.39)\n",
    "\n",
    "=> Legend: Train Accuracy (blue), Validation Accuracy (orange)\n",
    "\n",
    "=> Graph type: Line plot with markers"
   ]
  },
  {
   "cell_type": "markdown",
   "id": "7e74af60",
   "metadata": {},
   "source": [
    "## Plotting the Confusion Matrix"
   ]
  },
  {
   "cell_type": "code",
   "execution_count": 32,
   "id": "7f9d154a",
   "metadata": {},
   "outputs": [
    {
     "name": "stdout",
     "output_type": "stream",
     "text": [
      "Confusion Matrix:\n",
      "[[214  50  91]\n",
      " [140 143  72]\n",
      " [190 116  49]]\n"
     ]
    }
   ],
   "source": [
    "from sklearn.metrics import confusion_matrix\n",
    "\n",
    "# Calculate the confusion matrix using sklearn's confusion_matrix function\n",
    "cm = confusion_matrix(all_true_labels, all_predictions)\n",
    "\n",
    "# Saving the picture as a .txt file\n",
    "print(\"Confusion Matrix:\")\n",
    "print(cm)\n",
    "with open('confusion_matrix1.txt', 'w') as f:\n",
    "    f.write(str(cm))"
   ]
  },
  {
   "cell_type": "code",
   "execution_count": 27,
   "id": "dac97222",
   "metadata": {},
   "outputs": [
    {
     "data": {
      "image/png": "[encoded data removed]",
      "text/plain": [
       "<Figure size 800x600 with 2 Axes>"
      ]
     },
     "metadata": {},
     "output_type": "display_data"
    }
   ],
   "source": [
    "import matplotlib.pyplot as plt\n",
    "import numpy as np\n",
    "\n",
    "# Confusion matrix data\n",
    "cm = np.array([[214,  50,  91],\n",
    "               [140, 143,  72],\n",
    "               [190, 116,  49]])\n",
    "\n",
    "# Plotting the confusion matrix\n",
    "fig, ax = plt.subplots(figsize=(8, 6))\n",
    "\n",
    "# Use a more visually appealing color map\n",
    "cax = ax.matshow(cm, cmap='Blues', alpha=0.8)\n",
    "\n",
    "# Adding color bar\n",
    "cbar = plt.colorbar(cax)\n",
    "cbar.ax.set_ylabel('Frequency', rotation=270, labelpad=15, fontsize=12)\n",
    "\n",
    "# Adding annotations with bold formatting\n",
    "for (i, j), val in np.ndenumerate(cm):\n",
    "    ax.text(j, i, f'{val}', ha='center', va='center', \n",
    "            color='black', fontsize=10, weight='bold')\n",
    "\n",
    "# Setting axis labels and title\n",
    "plt.xlabel('Predicted Labels', fontsize=12, weight='bold')\n",
    "plt.ylabel('Actual Labels', fontsize=12, weight='bold')\n",
    "plt.title('Confusion Matrix', fontsize=14, weight='bold')\n",
    "\n",
    "# Customizing tick labels\n",
    "categories = ['Astronomy', 'Political Science', 'Psychology']\n",
    "ax.set_xticks(range(len(categories)))\n",
    "ax.set_yticks(range(len(categories)))\n",
    "ax.set_xticklabels(categories, fontsize=10, weight='bold')\n",
    "ax.set_yticklabels(categories, fontsize=10, weight='bold')\n",
    "\n",
    "# Adding gridlines for better separation\n",
    "ax.grid(False)  # Turn off default grid\n",
    "ax.set_xticks(np.arange(-0.5, len(categories), 1), minor=True)\n",
    "ax.set_yticks(np.arange(-0.5, len(categories), 1), minor=True)\n",
    "ax.grid(which=\"minor\", color=\"black\", linestyle='-', linewidth=0.5)\n",
    "\n",
    "# Saving the plot\n",
    "plt.tight_layout()\n",
    "plt.savefig('confusion_matrix_1.png', dpi=300)\n",
    "plt.show()\n"
   ]
  },
  {
   "cell_type": "markdown",
   "id": "e6e04746",
   "metadata": {},
   "source": [
    "**Astronomy**\n",
    "\n",
    "True Positives (TP): 214. The model correctly predicted 214 instances as 'Astronomy'.\n",
    "\n",
    "False Positives (FP): 50. The model incorrectly predicted 50 instances as 'Astronomy' when they were actually 'Political Science'.\n",
    "\n",
    "False Negatives (FN): 91. The model incorrectly predicted 91 instances as 'Political Science' or 'Psychology' when they were actually 'Astronomy'.\n",
    "\n",
    "True Negatives (TN): Not explicitly shown. This represents the number of instances correctly classified as 'Political Science' and 'Psychology'.\n",
    "\n",
    "**Political Science**\n",
    "\n",
    "True Positives (TP): 143. The model correctly predicted 143 instances as 'Political Science'.\n",
    "\n",
    "False Positives (FP): 140. The model incorrectly predicted 140 instances as 'Political Science' when they were actually 'Astronomy'.\n",
    "\n",
    "False Negatives (FN): 72. The model incorrectly predicted 72 instances as 'Astronomy' or 'Psychology' when they were actually 'Political Science'.\n",
    "\n",
    "True Negatives (TN): Not explicitly shown. This represents the number of instances correctly classified as 'Astronomy' and 'Psychology'.\n",
    "\n",
    "**Psychology**\n",
    "\n",
    "True Positives (TP): 49. The model correctly predicted 49 instances as 'Psychology'.\n",
    "\n",
    "False Positives (FP): 190. The model incorrectly predicted 190 instances as 'Psychology' when they were actually 'Astronomy'.\n",
    "\n",
    "False Negatives (FN): 116. The model incorrectly predicted 116 instances as 'Astronomy' or 'Political Science' when they were actually 'Psychology'.\n",
    "\n",
    "True Negatives (TN): Not explicitly shown. This represents the number of instances correctly classified as 'Astronomy' and 'Political Science'.\n"
   ]
  },
  {
   "cell_type": "code",
   "execution_count": null,
   "id": "620afe63",
   "metadata": {},
   "outputs": [],
   "source": []
  }
 ],
 "metadata": {
  "kernelspec": {
   "display_name": "Python 3 (ipykernel)",
   "language": "python",
   "name": "python3"
  },
  "language_info": {
   "codemirror_mode": {
    "name": "ipython",
    "version": 3
   },
   "file_extension": ".py",
   "mimetype": "text/x-python",
   "name": "python",
   "nbconvert_exporter": "python",
   "pygments_lexer": "ipython3",
   "version": "3.10.9"
  }
 },
 "nbformat": 4,
 "nbformat_minor": 5
}
